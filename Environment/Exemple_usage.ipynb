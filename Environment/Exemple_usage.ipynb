{
 "cells": [
  {
   "cell_type": "code",
   "execution_count": 3,
   "metadata": {},
   "outputs": [],
   "source": [
    "from Env import Vertex, Graph, Agent_to_graph_assignment\n",
    "\n",
    "import numpy as np\n",
    "\n",
    "### Parameters of the graph\n",
    "V = 10 # number of vertices\n",
    "dropout_egde_rate = 0.5 # rate of edges to delete from the fully connected graph\n",
    "\n",
    "## Create and adjacency matrix without self loops\n",
    "adj_matrix = np.ones((V,V)) - np.diag(np.ones(V))\n",
    "flattened_adj_matrix = adj_matrix.flatten()\n",
    "mask = np.random.choice(np.arange(adj_matrix.size),\n",
    "                 replace=False,\n",
    "                 size=int(adj_matrix.size * dropout_egde_rate))\n",
    "\n",
    "flattened_adj_matrix[mask] = 0\n",
    "adj_matrix = flattened_adj_matrix.reshape((V,V))\n",
    "# Create an undirected graph\n",
    "g = Graph()\n",
    "for i in range(V):\n",
    "    g.add(i,i)\n",
    "\n",
    "for i in range(1,V):\n",
    "    for j in range(i,V):\n",
    "        if adj_matrix[i,j] > 0 :\n",
    "            g.addEdge(i,j,adj_matrix[i,j])\n",
    "            g.addEdge(j,i,adj_matrix[i,j])\n",
    "\n",
    "            \n",
    "            \n",
    "assignement = Agent_to_graph_assignment(graph=g,\n",
    "                                        list_agents_names = [\"sto1\",'adv1',\"hyb1\"])\n",
    "agents_dicts = assignement.random_assignement()"
   ]
  },
  {
   "cell_type": "code",
   "execution_count": 4,
   "metadata": {},
   "outputs": [
    {
     "data": {
      "text/plain": [
       "[{'name': 'sto1',\n",
       "  'start': 1,\n",
       "  'destination': 5,\n",
       "  'arms': [{'path': [1, 2, 3, 5], 'cost': 3.0},\n",
       "   {'path': [1, 2, 5], 'cost': 2.0},\n",
       "   {'path': [1, 2, 6, 7, 3, 5], 'cost': 5.0},\n",
       "   {'path': [1, 2, 6, 7, 4, 3, 5], 'cost': 6.0},\n",
       "   {'path': [1, 2, 6, 7, 8, 3, 5], 'cost': 6.0},\n",
       "   {'path': [1, 2, 6, 7, 9, 4, 3, 5], 'cost': 7.0},\n",
       "   {'path': [1, 2, 7, 3, 5], 'cost': 4.0},\n",
       "   {'path': [1, 2, 7, 4, 3, 5], 'cost': 5.0},\n",
       "   {'path': [1, 2, 7, 8, 3, 5], 'cost': 5.0},\n",
       "   {'path': [1, 2, 7, 9, 4, 3, 5], 'cost': 6.0},\n",
       "   {'path': [1, 2, 9, 4, 3, 5], 'cost': 5.0},\n",
       "   {'path': [1, 2, 9, 4, 7, 3, 5], 'cost': 6.0},\n",
       "   {'path': [1, 2, 9, 4, 7, 8, 3, 5], 'cost': 7.0},\n",
       "   {'path': [1, 2, 9, 7, 3, 5], 'cost': 5.0},\n",
       "   {'path': [1, 2, 9, 7, 4, 3, 5], 'cost': 6.0},\n",
       "   {'path': [1, 2, 9, 7, 8, 3, 5], 'cost': 6.0},\n",
       "   {'path': [1, 5], 'cost': 1.0},\n",
       "   {'path': [1, 7, 2, 3, 5], 'cost': 4.0},\n",
       "   {'path': [1, 7, 2, 5], 'cost': 3.0},\n",
       "   {'path': [1, 7, 2, 9, 4, 3, 5], 'cost': 6.0},\n",
       "   {'path': [1, 7, 3, 2, 5], 'cost': 4.0},\n",
       "   {'path': [1, 7, 3, 4, 9, 2, 5], 'cost': 6.0},\n",
       "   {'path': [1, 7, 3, 5], 'cost': 3.0},\n",
       "   {'path': [1, 7, 4, 3, 2, 5], 'cost': 5.0},\n",
       "   {'path': [1, 7, 4, 3, 5], 'cost': 4.0},\n",
       "   {'path': [1, 7, 4, 9, 2, 3, 5], 'cost': 6.0},\n",
       "   {'path': [1, 7, 4, 9, 2, 5], 'cost': 5.0},\n",
       "   {'path': [1, 7, 6, 2, 3, 5], 'cost': 5.0},\n",
       "   {'path': [1, 7, 6, 2, 5], 'cost': 4.0},\n",
       "   {'path': [1, 7, 6, 2, 9, 4, 3, 5], 'cost': 7.0},\n",
       "   {'path': [1, 7, 8, 3, 2, 5], 'cost': 5.0},\n",
       "   {'path': [1, 7, 8, 3, 4, 9, 2, 5], 'cost': 7.0},\n",
       "   {'path': [1, 7, 8, 3, 5], 'cost': 4.0},\n",
       "   {'path': [1, 7, 9, 2, 3, 5], 'cost': 5.0},\n",
       "   {'path': [1, 7, 9, 2, 5], 'cost': 4.0},\n",
       "   {'path': [1, 7, 9, 4, 3, 2, 5], 'cost': 6.0},\n",
       "   {'path': [1, 7, 9, 4, 3, 5], 'cost': 5.0},\n",
       "   {'path': [1, 8, 3, 2, 5], 'cost': 4.0},\n",
       "   {'path': [1, 8, 3, 4, 7, 2, 5], 'cost': 6.0},\n",
       "   {'path': [1, 8, 3, 4, 7, 6, 2, 5], 'cost': 7.0},\n",
       "   {'path': [1, 8, 3, 4, 7, 9, 2, 5], 'cost': 7.0},\n",
       "   {'path': [1, 8, 3, 4, 9, 2, 5], 'cost': 6.0},\n",
       "   {'path': [1, 8, 3, 4, 9, 7, 2, 5], 'cost': 7.0},\n",
       "   {'path': [1, 8, 3, 4, 9, 7, 6, 2, 5], 'cost': 8.0},\n",
       "   {'path': [1, 8, 3, 5], 'cost': 3.0},\n",
       "   {'path': [1, 8, 3, 7, 2, 5], 'cost': 5.0},\n",
       "   {'path': [1, 8, 3, 7, 4, 9, 2, 5], 'cost': 7.0},\n",
       "   {'path': [1, 8, 3, 7, 6, 2, 5], 'cost': 6.0},\n",
       "   {'path': [1, 8, 3, 7, 9, 2, 5], 'cost': 6.0},\n",
       "   {'path': [1, 8, 7, 2, 3, 5], 'cost': 5.0},\n",
       "   {'path': [1, 8, 7, 2, 5], 'cost': 4.0},\n",
       "   {'path': [1, 8, 7, 2, 9, 4, 3, 5], 'cost': 7.0},\n",
       "   {'path': [1, 8, 7, 3, 2, 5], 'cost': 5.0},\n",
       "   {'path': [1, 8, 7, 3, 4, 9, 2, 5], 'cost': 7.0},\n",
       "   {'path': [1, 8, 7, 3, 5], 'cost': 4.0},\n",
       "   {'path': [1, 8, 7, 4, 3, 2, 5], 'cost': 6.0},\n",
       "   {'path': [1, 8, 7, 4, 3, 5], 'cost': 5.0},\n",
       "   {'path': [1, 8, 7, 4, 9, 2, 3, 5], 'cost': 7.0},\n",
       "   {'path': [1, 8, 7, 4, 9, 2, 5], 'cost': 6.0},\n",
       "   {'path': [1, 8, 7, 6, 2, 3, 5], 'cost': 6.0},\n",
       "   {'path': [1, 8, 7, 6, 2, 5], 'cost': 5.0},\n",
       "   {'path': [1, 8, 7, 6, 2, 9, 4, 3, 5], 'cost': 8.0},\n",
       "   {'path': [1, 8, 7, 9, 2, 3, 5], 'cost': 6.0},\n",
       "   {'path': [1, 8, 7, 9, 2, 5], 'cost': 5.0},\n",
       "   {'path': [1, 8, 7, 9, 4, 3, 2, 5], 'cost': 7.0},\n",
       "   {'path': [1, 8, 7, 9, 4, 3, 5], 'cost': 6.0},\n",
       "   {'path': [1, 9, 2, 3, 5], 'cost': 4.0},\n",
       "   {'path': [1, 9, 2, 5], 'cost': 3.0},\n",
       "   {'path': [1, 9, 2, 6, 7, 3, 5], 'cost': 6.0},\n",
       "   {'path': [1, 9, 2, 6, 7, 4, 3, 5], 'cost': 7.0},\n",
       "   {'path': [1, 9, 2, 6, 7, 8, 3, 5], 'cost': 7.0},\n",
       "   {'path': [1, 9, 2, 7, 3, 5], 'cost': 5.0},\n",
       "   {'path': [1, 9, 2, 7, 4, 3, 5], 'cost': 6.0},\n",
       "   {'path': [1, 9, 2, 7, 8, 3, 5], 'cost': 6.0},\n",
       "   {'path': [1, 9, 4, 3, 2, 5], 'cost': 5.0},\n",
       "   {'path': [1, 9, 4, 3, 5], 'cost': 4.0},\n",
       "   {'path': [1, 9, 4, 3, 7, 2, 5], 'cost': 6.0},\n",
       "   {'path': [1, 9, 4, 3, 7, 6, 2, 5], 'cost': 7.0},\n",
       "   {'path': [1, 9, 4, 3, 8, 7, 2, 5], 'cost': 7.0},\n",
       "   {'path': [1, 9, 4, 3, 8, 7, 6, 2, 5], 'cost': 8.0},\n",
       "   {'path': [1, 9, 4, 7, 2, 3, 5], 'cost': 6.0},\n",
       "   {'path': [1, 9, 4, 7, 2, 5], 'cost': 5.0},\n",
       "   {'path': [1, 9, 4, 7, 3, 2, 5], 'cost': 6.0},\n",
       "   {'path': [1, 9, 4, 7, 3, 5], 'cost': 5.0},\n",
       "   {'path': [1, 9, 4, 7, 6, 2, 3, 5], 'cost': 7.0},\n",
       "   {'path': [1, 9, 4, 7, 6, 2, 5], 'cost': 6.0},\n",
       "   {'path': [1, 9, 4, 7, 8, 3, 2, 5], 'cost': 7.0},\n",
       "   {'path': [1, 9, 4, 7, 8, 3, 5], 'cost': 6.0},\n",
       "   {'path': [1, 9, 7, 2, 3, 5], 'cost': 5.0},\n",
       "   {'path': [1, 9, 7, 2, 5], 'cost': 4.0},\n",
       "   {'path': [1, 9, 7, 3, 2, 5], 'cost': 5.0},\n",
       "   {'path': [1, 9, 7, 3, 5], 'cost': 4.0},\n",
       "   {'path': [1, 9, 7, 4, 3, 2, 5], 'cost': 6.0},\n",
       "   {'path': [1, 9, 7, 4, 3, 5], 'cost': 5.0},\n",
       "   {'path': [1, 9, 7, 6, 2, 3, 5], 'cost': 6.0},\n",
       "   {'path': [1, 9, 7, 6, 2, 5], 'cost': 5.0},\n",
       "   {'path': [1, 9, 7, 8, 3, 2, 5], 'cost': 6.0},\n",
       "   {'path': [1, 9, 7, 8, 3, 5], 'cost': 5.0}]},\n",
       " {'name': 'adv1',\n",
       "  'start': 2,\n",
       "  'destination': 7,\n",
       "  'arms': [{'path': [2, 1, 5, 3, 4, 7], 'cost': 11.0},\n",
       "   {'path': [2, 1, 5, 3, 4, 9, 7], 'cost': 12.0},\n",
       "   {'path': [2, 1, 5, 3, 7], 'cost': 10.0},\n",
       "   {'path': [2, 1, 5, 3, 8, 7], 'cost': 11.0},\n",
       "   {'path': [2, 1, 7], 'cost': 8.0},\n",
       "   {'path': [2, 1, 8, 3, 4, 7], 'cost': 11.0},\n",
       "   {'path': [2, 1, 8, 3, 4, 9, 7], 'cost': 12.0},\n",
       "   {'path': [2, 1, 8, 3, 7], 'cost': 10.0},\n",
       "   {'path': [2, 1, 8, 7], 'cost': 9.0},\n",
       "   {'path': [2, 1, 9, 4, 3, 7], 'cost': 11.0},\n",
       "   {'path': [2, 1, 9, 4, 3, 8, 7], 'cost': 12.0},\n",
       "   {'path': [2, 1, 9, 4, 7], 'cost': 10.0},\n",
       "   {'path': [2, 1, 9, 7], 'cost': 9.0},\n",
       "   {'path': [2, 3, 4, 7], 'cost': 9.0},\n",
       "   {'path': [2, 3, 4, 9, 1, 7], 'cost': 11.0},\n",
       "   {'path': [2, 3, 4, 9, 1, 8, 7], 'cost': 12.0},\n",
       "   {'path': [2, 3, 4, 9, 7], 'cost': 10.0},\n",
       "   {'path': [2, 3, 5, 1, 7], 'cost': 10.0},\n",
       "   {'path': [2, 3, 5, 1, 8, 7], 'cost': 11.0},\n",
       "   {'path': [2, 3, 5, 1, 9, 4, 7], 'cost': 12.0},\n",
       "   {'path': [2, 3, 5, 1, 9, 7], 'cost': 11.0},\n",
       "   {'path': [2, 3, 7], 'cost': 8.0},\n",
       "   {'path': [2, 3, 8, 1, 7], 'cost': 10.0},\n",
       "   {'path': [2, 3, 8, 1, 9, 4, 7], 'cost': 12.0},\n",
       "   {'path': [2, 3, 8, 1, 9, 7], 'cost': 11.0},\n",
       "   {'path': [2, 3, 8, 7], 'cost': 9.0},\n",
       "   {'path': [2, 5, 1, 7], 'cost': 9.0},\n",
       "   {'path': [2, 5, 1, 8, 3, 4, 7], 'cost': 12.0},\n",
       "   {'path': [2, 5, 1, 8, 3, 4, 9, 7], 'cost': 13.0},\n",
       "   {'path': [2, 5, 1, 8, 3, 7], 'cost': 11.0},\n",
       "   {'path': [2, 5, 1, 8, 7], 'cost': 10.0},\n",
       "   {'path': [2, 5, 1, 9, 4, 3, 7], 'cost': 12.0},\n",
       "   {'path': [2, 5, 1, 9, 4, 3, 8, 7], 'cost': 13.0},\n",
       "   {'path': [2, 5, 1, 9, 4, 7], 'cost': 11.0},\n",
       "   {'path': [2, 5, 1, 9, 7], 'cost': 10.0},\n",
       "   {'path': [2, 5, 3, 4, 7], 'cost': 10.0},\n",
       "   {'path': [2, 5, 3, 4, 9, 1, 7], 'cost': 12.0},\n",
       "   {'path': [2, 5, 3, 4, 9, 1, 8, 7], 'cost': 13.0},\n",
       "   {'path': [2, 5, 3, 4, 9, 7], 'cost': 11.0},\n",
       "   {'path': [2, 5, 3, 7], 'cost': 9.0},\n",
       "   {'path': [2, 5, 3, 8, 1, 7], 'cost': 11.0},\n",
       "   {'path': [2, 5, 3, 8, 1, 9, 4, 7], 'cost': 13.0},\n",
       "   {'path': [2, 5, 3, 8, 1, 9, 7], 'cost': 12.0},\n",
       "   {'path': [2, 5, 3, 8, 7], 'cost': 10.0},\n",
       "   {'path': [2, 6, 7], 'cost': 8.0},\n",
       "   {'path': [2, 7], 'cost': 7.0},\n",
       "   {'path': [2, 9, 1, 5, 3, 4, 7], 'cost': 12.0},\n",
       "   {'path': [2, 9, 1, 5, 3, 7], 'cost': 11.0},\n",
       "   {'path': [2, 9, 1, 5, 3, 8, 7], 'cost': 12.0},\n",
       "   {'path': [2, 9, 1, 7], 'cost': 9.0},\n",
       "   {'path': [2, 9, 1, 8, 3, 4, 7], 'cost': 12.0},\n",
       "   {'path': [2, 9, 1, 8, 3, 7], 'cost': 11.0},\n",
       "   {'path': [2, 9, 1, 8, 7], 'cost': 10.0},\n",
       "   {'path': [2, 9, 4, 3, 5, 1, 7], 'cost': 12.0},\n",
       "   {'path': [2, 9, 4, 3, 5, 1, 8, 7], 'cost': 13.0},\n",
       "   {'path': [2, 9, 4, 3, 7], 'cost': 10.0},\n",
       "   {'path': [2, 9, 4, 3, 8, 1, 7], 'cost': 12.0},\n",
       "   {'path': [2, 9, 4, 3, 8, 7], 'cost': 11.0},\n",
       "   {'path': [2, 9, 4, 7], 'cost': 9.0},\n",
       "   {'path': [2, 9, 7], 'cost': 8.0}]},\n",
       " {'name': 'hyb1',\n",
       "  'start': 7,\n",
       "  'destination': 3,\n",
       "  'arms': [{'path': [7, 1, 2, 3], 'cost': 11.0},\n",
       "   {'path': [7, 1, 2, 5, 3], 'cost': 12.0},\n",
       "   {'path': [7, 1, 2, 9, 4, 3], 'cost': 13.0},\n",
       "   {'path': [7, 1, 5, 2, 3], 'cost': 12.0},\n",
       "   {'path': [7, 1, 5, 2, 9, 4, 3], 'cost': 14.0},\n",
       "   {'path': [7, 1, 5, 3], 'cost': 11.0},\n",
       "   {'path': [7, 1, 8, 3], 'cost': 11.0},\n",
       "   {'path': [7, 1, 9, 2, 3], 'cost': 12.0},\n",
       "   {'path': [7, 1, 9, 2, 5, 3], 'cost': 13.0},\n",
       "   {'path': [7, 1, 9, 4, 3], 'cost': 12.0},\n",
       "   {'path': [7, 2, 1, 5, 3], 'cost': 12.0},\n",
       "   {'path': [7, 2, 1, 8, 3], 'cost': 12.0},\n",
       "   {'path': [7, 2, 1, 9, 4, 3], 'cost': 13.0},\n",
       "   {'path': [7, 2, 3], 'cost': 10.0},\n",
       "   {'path': [7, 2, 5, 1, 8, 3], 'cost': 13.0},\n",
       "   {'path': [7, 2, 5, 1, 9, 4, 3], 'cost': 14.0},\n",
       "   {'path': [7, 2, 5, 3], 'cost': 11.0},\n",
       "   {'path': [7, 2, 9, 1, 5, 3], 'cost': 13.0},\n",
       "   {'path': [7, 2, 9, 1, 8, 3], 'cost': 13.0},\n",
       "   {'path': [7, 2, 9, 4, 3], 'cost': 12.0},\n",
       "   {'path': [7, 3], 'cost': 9.0},\n",
       "   {'path': [7, 4, 3], 'cost': 10.0},\n",
       "   {'path': [7, 4, 9, 1, 2, 3], 'cost': 13.0},\n",
       "   {'path': [7, 4, 9, 1, 2, 5, 3], 'cost': 14.0},\n",
       "   {'path': [7, 4, 9, 1, 5, 2, 3], 'cost': 14.0},\n",
       "   {'path': [7, 4, 9, 1, 5, 3], 'cost': 13.0},\n",
       "   {'path': [7, 4, 9, 1, 8, 3], 'cost': 13.0},\n",
       "   {'path': [7, 4, 9, 2, 1, 5, 3], 'cost': 14.0},\n",
       "   {'path': [7, 4, 9, 2, 1, 8, 3], 'cost': 14.0},\n",
       "   {'path': [7, 4, 9, 2, 3], 'cost': 12.0},\n",
       "   {'path': [7, 4, 9, 2, 5, 1, 8, 3], 'cost': 15.0},\n",
       "   {'path': [7, 4, 9, 2, 5, 3], 'cost': 13.0},\n",
       "   {'path': [7, 6, 2, 1, 5, 3], 'cost': 13.0},\n",
       "   {'path': [7, 6, 2, 1, 8, 3], 'cost': 13.0},\n",
       "   {'path': [7, 6, 2, 1, 9, 4, 3], 'cost': 14.0},\n",
       "   {'path': [7, 6, 2, 3], 'cost': 11.0},\n",
       "   {'path': [7, 6, 2, 5, 1, 8, 3], 'cost': 14.0},\n",
       "   {'path': [7, 6, 2, 5, 1, 9, 4, 3], 'cost': 15.0},\n",
       "   {'path': [7, 6, 2, 5, 3], 'cost': 12.0},\n",
       "   {'path': [7, 6, 2, 9, 1, 5, 3], 'cost': 14.0},\n",
       "   {'path': [7, 6, 2, 9, 1, 8, 3], 'cost': 14.0},\n",
       "   {'path': [7, 6, 2, 9, 4, 3], 'cost': 13.0},\n",
       "   {'path': [7, 8, 1, 2, 3], 'cost': 12.0},\n",
       "   {'path': [7, 8, 1, 2, 5, 3], 'cost': 13.0},\n",
       "   {'path': [7, 8, 1, 2, 9, 4, 3], 'cost': 14.0},\n",
       "   {'path': [7, 8, 1, 5, 2, 3], 'cost': 13.0},\n",
       "   {'path': [7, 8, 1, 5, 2, 9, 4, 3], 'cost': 15.0},\n",
       "   {'path': [7, 8, 1, 5, 3], 'cost': 12.0},\n",
       "   {'path': [7, 8, 1, 9, 2, 3], 'cost': 13.0},\n",
       "   {'path': [7, 8, 1, 9, 2, 5, 3], 'cost': 14.0},\n",
       "   {'path': [7, 8, 1, 9, 4, 3], 'cost': 13.0},\n",
       "   {'path': [7, 8, 3], 'cost': 10.0},\n",
       "   {'path': [7, 9, 1, 2, 3], 'cost': 12.0},\n",
       "   {'path': [7, 9, 1, 2, 5, 3], 'cost': 13.0},\n",
       "   {'path': [7, 9, 1, 5, 2, 3], 'cost': 13.0},\n",
       "   {'path': [7, 9, 1, 5, 3], 'cost': 12.0},\n",
       "   {'path': [7, 9, 1, 8, 3], 'cost': 12.0},\n",
       "   {'path': [7, 9, 2, 1, 5, 3], 'cost': 13.0},\n",
       "   {'path': [7, 9, 2, 1, 8, 3], 'cost': 13.0},\n",
       "   {'path': [7, 9, 2, 3], 'cost': 11.0},\n",
       "   {'path': [7, 9, 2, 5, 1, 8, 3], 'cost': 14.0},\n",
       "   {'path': [7, 9, 2, 5, 3], 'cost': 12.0},\n",
       "   {'path': [7, 9, 4, 3], 'cost': 11.0}]}]"
      ]
     },
     "execution_count": 4,
     "metadata": {},
     "output_type": "execute_result"
    }
   ],
   "source": [
    "agents_dicts"
   ]
  },
  {
   "cell_type": "code",
   "execution_count": 122,
   "metadata": {},
   "outputs": [],
   "source": []
  },
  {
   "cell_type": "code",
   "execution_count": 123,
   "metadata": {},
   "outputs": [],
   "source": []
  },
  {
   "cell_type": "code",
   "execution_count": null,
   "metadata": {
    "scrolled": false
   },
   "outputs": [],
   "source": []
  },
  {
   "cell_type": "code",
   "execution_count": 196,
   "metadata": {},
   "outputs": [
    {
     "ename": "IndentationError",
     "evalue": "expected an indented block (<ipython-input-196-e13cd88ecc9f>, line 6)",
     "output_type": "error",
     "traceback": [
      "\u001b[1;36m  File \u001b[1;32m\"<ipython-input-196-e13cd88ecc9f>\"\u001b[1;36m, line \u001b[1;32m6\u001b[0m\n\u001b[1;33m    def reset(self):\u001b[0m\n\u001b[1;37m      ^\u001b[0m\n\u001b[1;31mIndentationError\u001b[0m\u001b[1;31m:\u001b[0m expected an indented block\n"
     ]
    }
   ],
   "source": [
    "class cost_calculator :\n",
    "    \n",
    "    def __init__(self, list_arms_pulled, list_base_costs):\n",
    "        self.list_arms_pulled = list_arms_pulled.copy()\n",
    "        self.list_base_costs = list_base_costs.copy()\n",
    "    def reset(self):\n",
    "        self.list_arms_pulled = list_arms_pulled.copy()\n",
    "        self.list_base_costs = list_base_costs.copy()\n",
    "        self.path_cost = np.zeros(len(self.list_arms_pulled))\n",
    "    \n",
    "    def padding(self, list_, nb_elements_to_pad):\n",
    "        return list_.extend([-99]*nb_elements_to_pad)\n",
    "    \n",
    "    def get_max_len(self):\n",
    "                \n",
    "        max_len = -9999\n",
    "        \n",
    "        for L in self.list_arms_pulled :\n",
    "            l = len(L) \n",
    "            if l > max_len :\n",
    "                max_len = l\n",
    "        return max_len\n",
    "    \n",
    "    def cost_calculation(self):\n",
    "        self.reset()\n",
    "        max_len = self.get_max_len()\n",
    "        \n",
    "        for i,list_ in enumerate(self.list_arms_pulled) :\n",
    "            self.list_arms_pulled[i] = self.padding(list_,max_len - len(list_))\n",
    "        self.list_arms_pulled = np.array(self.list_arms_pulled)\n",
    "        \n",
    "        costs_updates = np.zeros(len(self.list_arms_pulled))\n",
    "        for i, path in enumerate(self.list_arms_pulled):\n",
    "            \n",
    "        \n",
    "        \n",
    "        for i in range(len(self.list_arms_pulled)):\n",
    "            self.path_cost[i] = self.list_base_costs[i] + costs_updates\n",
    "        \n"
   ]
  },
  {
   "cell_type": "code",
   "execution_count": 188,
   "metadata": {},
   "outputs": [],
   "source": [
    "list_arms_pulled_ = [[8, 9, 6, 1],\n",
    "                    [6, 8, 7, 3, 1, 2, 4],\n",
    "                    [8, 7, 2]]"
   ]
  },
  {
   "cell_type": "code",
   "execution_count": 189,
   "metadata": {},
   "outputs": [],
   "source": [
    "cc = cost_calculator(list_arms_pulled=list_arms_pulled_)"
   ]
  },
  {
   "cell_type": "code",
   "execution_count": 190,
   "metadata": {},
   "outputs": [],
   "source": [
    "cc.cost_calculation()"
   ]
  },
  {
   "cell_type": "code",
   "execution_count": 207,
   "metadata": {},
   "outputs": [],
   "source": [
    "test = np.array(list_arms_pulled)[:,[0,1]]"
   ]
  },
  {
   "cell_type": "code",
   "execution_count": 208,
   "metadata": {},
   "outputs": [
    {
     "data": {
      "text/plain": [
       "array([[8, 9],\n",
       "       [6, 8],\n",
       "       [8, 7]])"
      ]
     },
     "execution_count": 208,
     "metadata": {},
     "output_type": "execute_result"
    }
   ],
   "source": [
    "test"
   ]
  },
  {
   "cell_type": "code",
   "execution_count": 211,
   "metadata": {},
   "outputs": [],
   "source": [
    "from collections import Counter \n",
    "from itertools import chain \n",
    "  \n",
    "# List initialization \n",
    "Input = [[tuple(sorted(row))] for row in test]\n",
    "  \n",
    "# Using counter and chain \n",
    "Output = Counter(chain(*Input)) "
   ]
  },
  {
   "cell_type": "code",
   "execution_count": 212,
   "metadata": {},
   "outputs": [
    {
     "data": {
      "text/plain": [
       "Counter({(8, 9): 1, (6, 8): 1, (7, 8): 1})"
      ]
     },
     "execution_count": 212,
     "metadata": {},
     "output_type": "execute_result"
    }
   ],
   "source": [
    "Output"
   ]
  },
  {
   "cell_type": "code",
   "execution_count": 194,
   "metadata": {},
   "outputs": [
    {
     "data": {
      "text/plain": [
       "[[8, 9, 6, 1], [6, 8, 7, 3, 1, 2, 4], [8, 7, 2]]"
      ]
     },
     "execution_count": 194,
     "metadata": {},
     "output_type": "execute_result"
    }
   ],
   "source": [
    "list_arms_pulled_"
   ]
  },
  {
   "cell_type": "code",
   "execution_count": null,
   "metadata": {},
   "outputs": [],
   "source": []
  }
 ],
 "metadata": {
  "kernelspec": {
   "display_name": "Python 3",
   "language": "python",
   "name": "python3"
  },
  "language_info": {
   "codemirror_mode": {
    "name": "ipython",
    "version": 3
   },
   "file_extension": ".py",
   "mimetype": "text/x-python",
   "name": "python",
   "nbconvert_exporter": "python",
   "pygments_lexer": "ipython3",
   "version": "3.7.3"
  }
 },
 "nbformat": 4,
 "nbformat_minor": 2
}
