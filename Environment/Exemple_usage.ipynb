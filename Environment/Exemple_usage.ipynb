{
 "cells": [
  {
   "cell_type": "code",
   "execution_count": 7,
   "metadata": {},
   "outputs": [],
   "source": [
    "from Env import Vertex, Graph, Agent_to_graph_assignment, cost_calculator"
   ]
  },
  {
   "cell_type": "code",
   "execution_count": 8,
   "metadata": {},
   "outputs": [],
   "source": [
    "import numpy as np"
   ]
  },
  {
   "cell_type": "markdown",
   "metadata": {},
   "source": [
    "# Graph parameters"
   ]
  },
  {
   "cell_type": "code",
   "execution_count": 10,
   "metadata": {},
   "outputs": [],
   "source": [
    "V = 7 # number of vertices\n",
    "dropout_egde_rate = 0.4 # rate of edges to delete from the fully connected graph"
   ]
  },
  {
   "cell_type": "markdown",
   "metadata": {},
   "source": [
    "# Create an undirected graph"
   ]
  },
  {
   "cell_type": "markdown",
   "metadata": {},
   "source": [
    "## Create vertices"
   ]
  },
  {
   "cell_type": "code",
   "execution_count": 11,
   "metadata": {},
   "outputs": [],
   "source": [
    "g = Graph()\n",
    "for i in range(V):\n",
    "    g.add(i,i)"
   ]
  },
  {
   "cell_type": "markdown",
   "metadata": {},
   "source": [
    "# Set edges and build the adj matrix at the same time"
   ]
  },
  {
   "cell_type": "code",
   "execution_count": 12,
   "metadata": {},
   "outputs": [],
   "source": [
    "adj_matrix = np.zeros((V,V))\n",
    "for i in range(1,V):\n",
    "    for j in range(i,V):\n",
    "        if np.random.random() > dropout_egde_rate :\n",
    "            adj_matrix[i,j], adj_matrix[j,i] = 1, 1\n",
    "            g.addEdge(i,j,1)\n",
    "            g.addEdge(j,i,1)"
   ]
  },
  {
   "cell_type": "code",
   "execution_count": 13,
   "metadata": {},
   "outputs": [
    {
     "data": {
      "text/plain": [
       "array([[0., 0., 0., 0., 0., 0., 0.],\n",
       "       [0., 0., 1., 0., 1., 0., 1.],\n",
       "       [0., 1., 1., 1., 1., 0., 1.],\n",
       "       [0., 0., 1., 1., 1., 0., 1.],\n",
       "       [0., 1., 1., 1., 0., 1., 1.],\n",
       "       [0., 0., 0., 0., 1., 1., 0.],\n",
       "       [0., 1., 1., 1., 1., 0., 1.]])"
      ]
     },
     "execution_count": 13,
     "metadata": {},
     "output_type": "execute_result"
    }
   ],
   "source": [
    "adj_matrix"
   ]
  },
  {
   "cell_type": "markdown",
   "metadata": {},
   "source": [
    "# Give names to the agents and randomly assign their starts and destinations"
   ]
  },
  {
   "cell_type": "code",
   "execution_count": 14,
   "metadata": {},
   "outputs": [],
   "source": [
    "assignement = Agent_to_graph_assignment(graph=g,\n",
    "                                        list_agents_names = [\"sto1\",'adv1',\"hyb1\"])\n",
    "agents_dicts = assignement.random_assignement()"
   ]
  },
  {
   "cell_type": "code",
   "execution_count": 15,
   "metadata": {},
   "outputs": [
    {
     "data": {
      "text/plain": [
       "[{'name': 'sto1',\n",
       "  'infos': {'start': 2,\n",
       "   'destination': 5,\n",
       "   'arms': [{'path': [2, 1, 4, 5]},\n",
       "    {'path': [2, 1, 6, 3, 4, 5]},\n",
       "    {'path': [2, 1, 6, 4, 5]},\n",
       "    {'path': [2, 3, 4, 5]},\n",
       "    {'path': [2, 3, 6, 1, 4, 5]},\n",
       "    {'path': [2, 3, 6, 4, 5]},\n",
       "    {'path': [2, 4, 5]},\n",
       "    {'path': [2, 6, 1, 4, 5]},\n",
       "    {'path': [2, 6, 3, 4, 5]},\n",
       "    {'path': [2, 6, 4, 5]}]}},\n",
       " {'name': 'adv1',\n",
       "  'infos': {'start': 2,\n",
       "   'destination': 3,\n",
       "   'arms': [{'path': [2, 1, 4, 3]},\n",
       "    {'path': [2, 1, 4, 6, 3]},\n",
       "    {'path': [2, 1, 6, 3]},\n",
       "    {'path': [2, 1, 6, 4, 3]},\n",
       "    {'path': [2, 3]},\n",
       "    {'path': [2, 4, 1, 6, 3]},\n",
       "    {'path': [2, 4, 3]},\n",
       "    {'path': [2, 4, 6, 3]},\n",
       "    {'path': [2, 6, 1, 4, 3]},\n",
       "    {'path': [2, 6, 3]},\n",
       "    {'path': [2, 6, 4, 3]}]}},\n",
       " {'name': 'hyb1',\n",
       "  'infos': {'start': 5,\n",
       "   'destination': 3,\n",
       "   'arms': [{'path': [5, 4, 1, 2, 3]},\n",
       "    {'path': [5, 4, 1, 2, 6, 3]},\n",
       "    {'path': [5, 4, 1, 6, 2, 3]},\n",
       "    {'path': [5, 4, 1, 6, 3]},\n",
       "    {'path': [5, 4, 2, 1, 6, 3]},\n",
       "    {'path': [5, 4, 2, 3]},\n",
       "    {'path': [5, 4, 2, 6, 3]},\n",
       "    {'path': [5, 4, 3]},\n",
       "    {'path': [5, 4, 6, 1, 2, 3]},\n",
       "    {'path': [5, 4, 6, 2, 3]},\n",
       "    {'path': [5, 4, 6, 3]}]}}]"
      ]
     },
     "execution_count": 15,
     "metadata": {},
     "output_type": "execute_result"
    }
   ],
   "source": [
    "agents_dicts"
   ]
  },
  {
   "cell_type": "markdown",
   "metadata": {},
   "source": [
    "# Randomly choose an arm = succession of edges towards the arrival\n",
    "\n",
    "Instead of randomly choosing, we will choose arms using the history of the costs using a Bandit algorithm. This is why we need to code the algorithms and adapt the code in `Agent_to_graph_assignment` to change to choice of arms according to the type of the agent"
   ]
  },
  {
   "cell_type": "code",
   "execution_count": 16,
   "metadata": {},
   "outputs": [],
   "source": [
    "list_arms_pulled_ = [np.random.choice(agents_dicts[i][\"infos\"]['arms'])[\"path\"] for i in range(len(agents_dicts))]"
   ]
  },
  {
   "cell_type": "code",
   "execution_count": 17,
   "metadata": {},
   "outputs": [
    {
     "data": {
      "text/plain": [
       "[[2, 3, 6, 1, 4, 5], [2, 6, 1, 4, 3], [5, 4, 2, 6, 3]]"
      ]
     },
     "execution_count": 17,
     "metadata": {},
     "output_type": "execute_result"
    }
   ],
   "source": [
    "list_arms_pulled_"
   ]
  },
  {
   "cell_type": "markdown",
   "metadata": {},
   "source": [
    "# Compute calculations of costs"
   ]
  },
  {
   "cell_type": "code",
   "execution_count": 18,
   "metadata": {},
   "outputs": [],
   "source": [
    "cc = cost_calculator(list_arms_pulled=list_arms_pulled_, \n",
    "                     adj_matrix= adj_matrix)\n",
    "summary_round, history_costs_edges = cc.return_costs()"
   ]
  },
  {
   "cell_type": "code",
   "execution_count": 19,
   "metadata": {},
   "outputs": [
    {
     "data": {
      "text/plain": [
       "{0: {'path': [2, 3, 6, 1, 4, 5], 'cost': 5.0},\n",
       " 1: {'path': [2, 6, 1, 4, 3], 'cost': 4.0},\n",
       " 2: {'path': [5, 4, 2, 6, 3], 'cost': 4.0}}"
      ]
     },
     "execution_count": 19,
     "metadata": {},
     "output_type": "execute_result"
    }
   ],
   "source": [
    "summary_round"
   ]
  },
  {
   "cell_type": "code",
   "execution_count": 20,
   "metadata": {},
   "outputs": [
    {
     "data": {
      "text/plain": [
       "{(1, 2): [0, 0, 0, 0, 0],\n",
       " (1, 4): [0, 0, 1, 1, 0],\n",
       " (1, 6): [0, 1, 1, 0, 0],\n",
       " (2, 1): [0, 0, 0, 0, 0],\n",
       " (2, 2): [0, 0, 0, 0, 0],\n",
       " (2, 3): [1, 0, 0, 0, 0],\n",
       " (2, 4): [0, 1, 0, 0, 0],\n",
       " (2, 6): [1, 0, 1, 0, 0],\n",
       " (3, 2): [1, 0, 0, 0, 0],\n",
       " (3, 3): [0, 0, 0, 0, 0],\n",
       " (3, 4): [0, 0, 0, 1, 0],\n",
       " (3, 6): [0, 1, 0, 1, 0],\n",
       " (4, 1): [0, 0, 1, 1, 0],\n",
       " (4, 2): [0, 1, 0, 0, 0],\n",
       " (4, 3): [0, 0, 0, 1, 0],\n",
       " (4, 5): [1, 0, 0, 0, 1],\n",
       " (4, 6): [0, 0, 0, 0, 0],\n",
       " (5, 4): [1, 0, 0, 0, 1],\n",
       " (5, 5): [0, 0, 0, 0, 0],\n",
       " (6, 1): [0, 1, 1, 0, 0],\n",
       " (6, 2): [1, 0, 1, 0, 0],\n",
       " (6, 3): [0, 1, 0, 1, 0],\n",
       " (6, 4): [0, 0, 0, 0, 0],\n",
       " (6, 6): [0, 0, 0, 0, 0]}"
      ]
     },
     "execution_count": 20,
     "metadata": {},
     "output_type": "execute_result"
    }
   ],
   "source": [
    "history_costs_edges"
   ]
  },
  {
   "cell_type": "code",
   "execution_count": null,
   "metadata": {},
   "outputs": [],
   "source": []
  }
 ],
 "metadata": {
  "kernelspec": {
   "display_name": "Python 3",
   "language": "python",
   "name": "python3"
  },
  "language_info": {
   "codemirror_mode": {
    "name": "ipython",
    "version": 3
   },
   "file_extension": ".py",
   "mimetype": "text/x-python",
   "name": "python",
   "nbconvert_exporter": "python",
   "pygments_lexer": "ipython3",
   "version": "3.7.3"
  }
 },
 "nbformat": 4,
 "nbformat_minor": 2
}
