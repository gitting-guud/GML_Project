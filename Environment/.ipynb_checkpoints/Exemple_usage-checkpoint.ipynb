{
 "cells": [
  {
   "cell_type": "code",
   "execution_count": 227,
   "metadata": {},
   "outputs": [
    {
     "name": "stdout",
     "output_type": "stream",
     "text": [
      "The autoreload extension is already loaded. To reload it, use:\n",
      "  %reload_ext autoreload\n"
     ]
    }
   ],
   "source": [
    "from Env import Vertex, Graph, Agent_to_graph_assignment, cost_calculator\n",
    "%load_ext autoreload\n",
    "%autoreload 2"
   ]
  },
  {
   "cell_type": "code",
   "execution_count": 228,
   "metadata": {},
   "outputs": [],
   "source": [
    "import numpy as np"
   ]
  },
  {
   "cell_type": "markdown",
   "metadata": {},
   "source": [
    "# Graph parameters"
   ]
  },
  {
   "cell_type": "code",
   "execution_count": 229,
   "metadata": {},
   "outputs": [],
   "source": [
    "V = 7 # number of vertices\n",
    "dropout_egde_rate = 0.4 # rate of edges to delete from the fully connected graph"
   ]
  },
  {
   "cell_type": "markdown",
   "metadata": {},
   "source": [
    "# Create an undirected graph"
   ]
  },
  {
   "cell_type": "markdown",
   "metadata": {},
   "source": [
    "## Create vertices"
   ]
  },
  {
   "cell_type": "code",
   "execution_count": 230,
   "metadata": {},
   "outputs": [],
   "source": [
    "g = Graph()\n",
    "for i in range(V):\n",
    "    g.add(i,i)"
   ]
  },
  {
   "cell_type": "markdown",
   "metadata": {},
   "source": [
    "# Set edges and build the adj matrix at the same time"
   ]
  },
  {
   "cell_type": "code",
   "execution_count": 231,
   "metadata": {},
   "outputs": [],
   "source": [
    "adj_matrix = np.zeros((V,V))\n",
    "for i in range(1,V):\n",
    "    for j in range(1,V):\n",
    "        if np.random.random() > dropout_egde_rate :\n",
    "            adj_matrix[i,j], adj_matrix[j,i] = 1, 1\n",
    "            g.addEdge(i,j,1)\n",
    "            g.addEdge(j,i,1)"
   ]
  },
  {
   "cell_type": "code",
   "execution_count": 232,
   "metadata": {},
   "outputs": [
    {
     "data": {
      "text/plain": [
       "array([[0., 0., 0., 0., 0., 0., 0.],\n",
       "       [0., 1., 1., 1., 1., 1., 1.],\n",
       "       [0., 1., 0., 1., 1., 1., 0.],\n",
       "       [0., 1., 1., 0., 1., 0., 1.],\n",
       "       [0., 1., 1., 1., 0., 1., 1.],\n",
       "       [0., 1., 1., 0., 1., 1., 1.],\n",
       "       [0., 1., 0., 1., 1., 1., 1.]])"
      ]
     },
     "execution_count": 232,
     "metadata": {},
     "output_type": "execute_result"
    }
   ],
   "source": [
    "adj_matrix"
   ]
  },
  {
   "cell_type": "markdown",
   "metadata": {},
   "source": [
    "# Give names to the agents and randomly assign their starts and destinations"
   ]
  },
  {
   "cell_type": "code",
   "execution_count": 258,
   "metadata": {},
   "outputs": [],
   "source": [
    "assignement = Agent_to_graph_assignment(graph=g,\n",
    "                                        list_agents_names = [\"sto1\",'adv1',\"hyb1\"], \n",
    "                                       adj_matrix=adj_matrix)\n",
    "agents_dicts = assignement.random_assignement()"
   ]
  },
  {
   "cell_type": "code",
   "execution_count": 259,
   "metadata": {
    "scrolled": true
   },
   "outputs": [
    {
     "data": {
      "text/plain": [
       "[{'name': 'sto1',\n",
       "  'infos': {'start': 1,\n",
       "   'destination': 6,\n",
       "   'arms': [{'path': [1, 2, 4, 3, 6]},\n",
       "    {'path': [1, 2, 4, 5, 6]},\n",
       "    {'path': [1, 2, 4, 6]},\n",
       "    {'path': [1, 2, 3, 4, 5, 6]},\n",
       "    {'path': [1, 2, 3, 4, 6]},\n",
       "    {'path': [1, 2, 3, 6]},\n",
       "    {'path': [1, 2, 5, 4, 3, 6]},\n",
       "    {'path': [1, 2, 5, 4, 6]},\n",
       "    {'path': [1, 2, 5, 6]},\n",
       "    {'path': [1, 3, 2, 4, 5, 6]},\n",
       "    {'path': [1, 3, 2, 4, 6]},\n",
       "    {'path': [1, 3, 2, 5, 4, 6]},\n",
       "    {'path': [1, 3, 2, 5, 6]},\n",
       "    {'path': [1, 3, 4, 2, 5, 6]},\n",
       "    {'path': [1, 3, 4, 5, 6]},\n",
       "    {'path': [1, 3, 4, 6]},\n",
       "    {'path': [1, 3, 6]},\n",
       "    {'path': [1, 4, 2, 3, 6]},\n",
       "    {'path': [1, 4, 2, 5, 6]},\n",
       "    {'path': [1, 4, 3, 2, 5, 6]},\n",
       "    {'path': [1, 4, 3, 6]},\n",
       "    {'path': [1, 4, 5, 2, 3, 6]},\n",
       "    {'path': [1, 4, 5, 6]},\n",
       "    {'path': [1, 4, 6]},\n",
       "    {'path': [1, 5, 4, 2, 3, 6]},\n",
       "    {'path': [1, 5, 4, 3, 6]},\n",
       "    {'path': [1, 5, 4, 6]},\n",
       "    {'path': [1, 5, 2, 4, 3, 6]},\n",
       "    {'path': [1, 5, 2, 4, 6]},\n",
       "    {'path': [1, 5, 2, 3, 4, 6]},\n",
       "    {'path': [1, 5, 2, 3, 6]},\n",
       "    {'path': [1, 5, 6]},\n",
       "    {'path': [1, 6]}]}},\n",
       " {'name': 'adv1',\n",
       "  'infos': {'start': 2,\n",
       "   'destination': 3,\n",
       "   'arms': [{'path': [2, 1, 3]},\n",
       "    {'path': [2, 1, 4, 3]},\n",
       "    {'path': [2, 1, 4, 5, 6, 3]},\n",
       "    {'path': [2, 1, 4, 6, 3]},\n",
       "    {'path': [2, 1, 5, 4, 3]},\n",
       "    {'path': [2, 1, 5, 4, 6, 3]},\n",
       "    {'path': [2, 1, 5, 6, 4, 3]},\n",
       "    {'path': [2, 1, 5, 6, 3]},\n",
       "    {'path': [2, 1, 6, 4, 3]},\n",
       "    {'path': [2, 1, 6, 5, 4, 3]},\n",
       "    {'path': [2, 1, 6, 3]},\n",
       "    {'path': [2, 4, 1, 3]},\n",
       "    {'path': [2, 4, 1, 5, 6, 3]},\n",
       "    {'path': [2, 4, 1, 6, 3]},\n",
       "    {'path': [2, 4, 3]},\n",
       "    {'path': [2, 4, 5, 1, 3]},\n",
       "    {'path': [2, 4, 5, 1, 6, 3]},\n",
       "    {'path': [2, 4, 5, 6, 1, 3]},\n",
       "    {'path': [2, 4, 5, 6, 3]},\n",
       "    {'path': [2, 4, 6, 5, 1, 3]},\n",
       "    {'path': [2, 4, 6, 1, 3]},\n",
       "    {'path': [2, 4, 6, 3]},\n",
       "    {'path': [2, 3]},\n",
       "    {'path': [2, 5, 1, 3]},\n",
       "    {'path': [2, 5, 1, 4, 3]},\n",
       "    {'path': [2, 5, 1, 4, 6, 3]},\n",
       "    {'path': [2, 5, 1, 6, 4, 3]},\n",
       "    {'path': [2, 5, 1, 6, 3]},\n",
       "    {'path': [2, 5, 4, 1, 3]},\n",
       "    {'path': [2, 5, 4, 1, 6, 3]},\n",
       "    {'path': [2, 5, 4, 3]},\n",
       "    {'path': [2, 5, 4, 6, 1, 3]},\n",
       "    {'path': [2, 5, 4, 6, 3]},\n",
       "    {'path': [2, 5, 6, 4, 1, 3]},\n",
       "    {'path': [2, 5, 6, 4, 3]},\n",
       "    {'path': [2, 5, 6, 1, 3]},\n",
       "    {'path': [2, 5, 6, 1, 4, 3]},\n",
       "    {'path': [2, 5, 6, 3]}]}},\n",
       " {'name': 'hyb1',\n",
       "  'infos': {'start': 2,\n",
       "   'destination': 4,\n",
       "   'arms': [{'path': [2, 1, 3, 4]},\n",
       "    {'path': [2, 1, 3, 6, 4]},\n",
       "    {'path': [2, 1, 3, 6, 5, 4]},\n",
       "    {'path': [2, 1, 4]},\n",
       "    {'path': [2, 1, 5, 4]},\n",
       "    {'path': [2, 1, 5, 6, 4]},\n",
       "    {'path': [2, 1, 5, 6, 3, 4]},\n",
       "    {'path': [2, 1, 6, 4]},\n",
       "    {'path': [2, 1, 6, 5, 4]},\n",
       "    {'path': [2, 1, 6, 3, 4]},\n",
       "    {'path': [2, 4]},\n",
       "    {'path': [2, 3, 1, 4]},\n",
       "    {'path': [2, 3, 1, 5, 4]},\n",
       "    {'path': [2, 3, 1, 5, 6, 4]},\n",
       "    {'path': [2, 3, 1, 6, 4]},\n",
       "    {'path': [2, 3, 1, 6, 5, 4]},\n",
       "    {'path': [2, 3, 4]},\n",
       "    {'path': [2, 3, 6, 4]},\n",
       "    {'path': [2, 3, 6, 5, 1, 4]},\n",
       "    {'path': [2, 3, 6, 5, 4]},\n",
       "    {'path': [2, 3, 6, 1, 4]},\n",
       "    {'path': [2, 3, 6, 1, 5, 4]},\n",
       "    {'path': [2, 5, 1, 3, 4]},\n",
       "    {'path': [2, 5, 1, 3, 6, 4]},\n",
       "    {'path': [2, 5, 1, 4]},\n",
       "    {'path': [2, 5, 1, 6, 4]},\n",
       "    {'path': [2, 5, 1, 6, 3, 4]},\n",
       "    {'path': [2, 5, 4]},\n",
       "    {'path': [2, 5, 6, 4]},\n",
       "    {'path': [2, 5, 6, 1, 3, 4]},\n",
       "    {'path': [2, 5, 6, 1, 4]},\n",
       "    {'path': [2, 5, 6, 3, 1, 4]},\n",
       "    {'path': [2, 5, 6, 3, 4]}]}}]"
      ]
     },
     "execution_count": 259,
     "metadata": {},
     "output_type": "execute_result"
    }
   ],
   "source": [
    "agents_dicts"
   ]
  },
  {
   "cell_type": "code",
   "execution_count": 260,
   "metadata": {},
   "outputs": [
    {
     "name": "stdout",
     "output_type": "stream",
     "text": [
      "Testing 41382 combination of paths\n",
      "Total time to compute costs of all paths :25.42 s\n",
      "[ 3.  4.  4. ... 29. 29. 30.]\n",
      " => The minimal cost is :  3.0\n",
      " => The optimal paths are :  ([1, 6], [2, 3], [2, 4])\n"
     ]
    }
   ],
   "source": [
    "assignement.get_optimal_paths(combinatorial=True)"
   ]
  },
  {
   "cell_type": "markdown",
   "metadata": {},
   "source": [
    "# Randomly choose an arm = succession of edges towards the arrival\n",
    "\n",
    "Instead of randomly choosing, we will choose arms using the history of the costs using a Bandit algorithm. This is why we need to code the algorithms and adapt the code in `Agent_to_graph_assignment` to change to choice of arms according to the type of the agent"
   ]
  },
  {
   "cell_type": "code",
   "execution_count": 117,
   "metadata": {},
   "outputs": [
    {
     "data": {
      "text/plain": [
       "[[6, 2, 4, 5], [1, 4, 6], [4, 1, 5, 2, 6, 3]]"
      ]
     },
     "execution_count": 117,
     "metadata": {},
     "output_type": "execute_result"
    }
   ],
   "source": [
    "list_arms_pulled_ = [np.random.choice(agents_dicts[i][\"infos\"]['arms'])[\"path\"] for i in range(len(agents_dicts))]\n",
    "list_arms_pulled_"
   ]
  },
  {
   "cell_type": "markdown",
   "metadata": {},
   "source": [
    "# Compute calculations of costs"
   ]
  },
  {
   "cell_type": "code",
   "execution_count": 118,
   "metadata": {},
   "outputs": [],
   "source": [
    "cc = cost_calculator(list_arms_pulled=list_arms_pulled_, \n",
    "                     adj_matrix= adj_matrix)\n",
    "summary_round, history_costs_edges = cc.return_costs()"
   ]
  },
  {
   "cell_type": "code",
   "execution_count": 119,
   "metadata": {},
   "outputs": [
    {
     "data": {
      "text/plain": [
       "{0: {'path': [6, 2, 4, 5], 'cost': 3.0},\n",
       " 1: {'path': [1, 4, 6], 'cost': 3.0},\n",
       " 2: {'path': [4, 1, 5, 2, 6, 3], 'cost': 6.0}}"
      ]
     },
     "execution_count": 119,
     "metadata": {},
     "output_type": "execute_result"
    }
   ],
   "source": [
    "summary_round"
   ]
  },
  {
   "cell_type": "code",
   "execution_count": 116,
   "metadata": {
    "scrolled": false
   },
   "outputs": [
    {
     "data": {
      "text/plain": [
       "{(1, 1): [0, 0, 0, 0],\n",
       " (1, 4): [0, 0, 0, 0],\n",
       " (1, 5): [1, 0, 0, 0],\n",
       " (2, 3): [0, 0, 0, 0],\n",
       " (2, 4): [0, 0, 1, 0],\n",
       " (2, 5): [0, 0, 0, 0],\n",
       " (2, 6): [0, 0, 0, 1],\n",
       " (3, 2): [0, 0, 0, 0],\n",
       " (3, 3): [0, 0, 0, 0],\n",
       " (3, 4): [0, 0, 0, 0],\n",
       " (3, 6): [0, 1, 0, 0],\n",
       " (4, 1): [0, 0, 0, 0],\n",
       " (4, 2): [0, 0, 1, 0],\n",
       " (4, 3): [0, 0, 0, 0],\n",
       " (4, 4): [0, 0, 0, 0],\n",
       " (4, 5): [0, 2, 0, 0],\n",
       " (4, 6): [2, 0, 0, 0],\n",
       " (5, 1): [1, 0, 0, 0],\n",
       " (5, 2): [0, 0, 0, 0],\n",
       " (5, 4): [0, 2, 0, 0],\n",
       " (5, 5): [0, 0, 0, 0],\n",
       " (6, 2): [0, 0, 0, 1],\n",
       " (6, 3): [0, 1, 0, 0],\n",
       " (6, 4): [2, 0, 0, 0],\n",
       " (6, 6): [0, 0, 0, 0]}"
      ]
     },
     "execution_count": 116,
     "metadata": {},
     "output_type": "execute_result"
    }
   ],
   "source": [
    "history_costs_edges"
   ]
  },
  {
   "cell_type": "code",
   "execution_count": null,
   "metadata": {},
   "outputs": [],
   "source": []
  }
 ],
 "metadata": {
  "kernelspec": {
   "display_name": "Python 3",
   "language": "python",
   "name": "python3"
  },
  "language_info": {
   "codemirror_mode": {
    "name": "ipython",
    "version": 3
   },
   "file_extension": ".py",
   "mimetype": "text/x-python",
   "name": "python",
   "nbconvert_exporter": "python",
   "pygments_lexer": "ipython3",
   "version": "3.6.5"
  }
 },
 "nbformat": 4,
 "nbformat_minor": 2
}
