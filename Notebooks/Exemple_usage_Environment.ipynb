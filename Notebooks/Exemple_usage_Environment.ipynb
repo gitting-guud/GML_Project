{
 "cells": [
  {
   "cell_type": "code",
   "execution_count": 8,
   "metadata": {},
   "outputs": [
    {
     "name": "stdout",
     "output_type": "stream",
     "text": [
      "The autoreload extension is already loaded. To reload it, use:\n",
      "  %reload_ext autoreload\n"
     ]
    }
   ],
   "source": [
    "# import sys\n",
    "# sys.path.append(\"..\")\n",
    "from Environment.Env import Vertex, Graph, Agent_to_graph_assignment, cost_calculator\n",
    "import numpy as np\n",
    "%load_ext autoreload\n",
    "%autoreload 2"
   ]
  },
  {
   "cell_type": "markdown",
   "metadata": {},
   "source": [
    "# Graph parameters"
   ]
  },
  {
   "cell_type": "code",
   "execution_count": 9,
   "metadata": {},
   "outputs": [],
   "source": [
    "V = 8 # number of vertices\n",
    "dropout_egde_rate = 0.4 # rate of edges to delete from the fully connected graph"
   ]
  },
  {
   "cell_type": "markdown",
   "metadata": {},
   "source": [
    "# Create an undirected graph"
   ]
  },
  {
   "cell_type": "markdown",
   "metadata": {},
   "source": [
    "## Create vertices"
   ]
  },
  {
   "cell_type": "code",
   "execution_count": 10,
   "metadata": {},
   "outputs": [],
   "source": [
    "g = Graph()\n",
    "for i in range(V):\n",
    "    g.add(i,i)"
   ]
  },
  {
   "cell_type": "markdown",
   "metadata": {},
   "source": [
    "# Set edges and build the adj matrix at the same time"
   ]
  },
  {
   "cell_type": "code",
   "execution_count": 11,
   "metadata": {},
   "outputs": [],
   "source": [
    "adj_matrix = np.zeros((V,V))\n",
    "for i in range(1,V):\n",
    "    for j in range(i,V):\n",
    "        if np.random.random() > dropout_egde_rate :\n",
    "            adj_matrix[i,j], adj_matrix[j,i] = 1, 1\n",
    "            g.addEdge(i,j,1)\n",
    "            g.addEdge(j,i,1)"
   ]
  },
  {
   "cell_type": "code",
   "execution_count": 12,
   "metadata": {},
   "outputs": [
    {
     "data": {
      "text/plain": [
       "array([[0., 0., 0., 0., 0., 0., 0., 0.],\n",
       "       [0., 1., 1., 0., 1., 1., 1., 1.],\n",
       "       [0., 1., 1., 1., 1., 0., 1., 0.],\n",
       "       [0., 0., 1., 0., 1., 0., 0., 1.],\n",
       "       [0., 1., 1., 1., 1., 1., 1., 0.],\n",
       "       [0., 1., 0., 0., 1., 0., 1., 1.],\n",
       "       [0., 1., 1., 0., 1., 1., 0., 0.],\n",
       "       [0., 1., 0., 1., 0., 1., 0., 1.]])"
      ]
     },
     "execution_count": 12,
     "metadata": {},
     "output_type": "execute_result"
    }
   ],
   "source": [
    "adj_matrix"
   ]
  },
  {
   "cell_type": "code",
   "execution_count": 13,
   "metadata": {},
   "outputs": [],
   "source": [
    "rows, cols = np.where(adj_matrix>0)\n",
    "all_edges = {}\n",
    "for row, col in zip(rows, cols):\n",
    "    all_edges[(row, col)] = 1"
   ]
  },
  {
   "cell_type": "code",
   "execution_count": 14,
   "metadata": {},
   "outputs": [
    {
     "data": {
      "text/plain": [
       "{(1, 1): 1,\n",
       " (1, 2): 1,\n",
       " (1, 4): 1,\n",
       " (1, 5): 1,\n",
       " (1, 6): 1,\n",
       " (1, 7): 1,\n",
       " (2, 1): 1,\n",
       " (2, 2): 1,\n",
       " (2, 3): 1,\n",
       " (2, 4): 1,\n",
       " (2, 6): 1,\n",
       " (3, 2): 1,\n",
       " (3, 4): 1,\n",
       " (3, 7): 1,\n",
       " (4, 1): 1,\n",
       " (4, 2): 1,\n",
       " (4, 3): 1,\n",
       " (4, 4): 1,\n",
       " (4, 5): 1,\n",
       " (4, 6): 1,\n",
       " (5, 1): 1,\n",
       " (5, 4): 1,\n",
       " (5, 6): 1,\n",
       " (5, 7): 1,\n",
       " (6, 1): 1,\n",
       " (6, 2): 1,\n",
       " (6, 4): 1,\n",
       " (6, 5): 1,\n",
       " (7, 1): 1,\n",
       " (7, 3): 1,\n",
       " (7, 5): 1,\n",
       " (7, 7): 1}"
      ]
     },
     "execution_count": 14,
     "metadata": {},
     "output_type": "execute_result"
    }
   ],
   "source": [
    "all_edges"
   ]
  },
  {
   "cell_type": "markdown",
   "metadata": {},
   "source": [
    "# Give names to the agents and randomly assign their starts and destinations"
   ]
  },
  {
   "cell_type": "code",
   "execution_count": 15,
   "metadata": {},
   "outputs": [],
   "source": [
    "agents =[\"sto1\",'adv1',\"hyb1\"]\n",
    "assignement = Agent_to_graph_assignment(graph=g,\n",
    "                                        list_agents_names = agents, adj_matrix=adj_matrix)\n",
    "agents_dicts = assignement.random_assignement()"
   ]
  },
  {
   "cell_type": "code",
   "execution_count": 16,
   "metadata": {},
   "outputs": [
    {
     "data": {
      "text/plain": [
       "[{'name': 'sto1',\n",
       "  'infos': {'start': 2,\n",
       "   'destination': 1,\n",
       "   'arms': [{'path': [2, 1]},\n",
       "    {'path': [2, 3, 4, 1]},\n",
       "    {'path': [2, 3, 4, 5, 1]},\n",
       "    {'path': [2, 3, 4, 5, 6, 1]},\n",
       "    {'path': [2, 3, 4, 5, 7, 1]},\n",
       "    {'path': [2, 3, 4, 6, 1]},\n",
       "    {'path': [2, 3, 4, 6, 5, 1]},\n",
       "    {'path': [2, 3, 4, 6, 5, 7, 1]},\n",
       "    {'path': [2, 3, 7, 1]},\n",
       "    {'path': [2, 3, 7, 5, 1]},\n",
       "    {'path': [2, 3, 7, 5, 4, 1]},\n",
       "    {'path': [2, 3, 7, 5, 4, 6, 1]},\n",
       "    {'path': [2, 3, 7, 5, 6, 1]},\n",
       "    {'path': [2, 3, 7, 5, 6, 4, 1]},\n",
       "    {'path': [2, 4, 1]},\n",
       "    {'path': [2, 4, 3, 7, 1]},\n",
       "    {'path': [2, 4, 3, 7, 5, 1]},\n",
       "    {'path': [2, 4, 3, 7, 5, 6, 1]},\n",
       "    {'path': [2, 4, 5, 1]},\n",
       "    {'path': [2, 4, 5, 6, 1]},\n",
       "    {'path': [2, 4, 5, 7, 1]},\n",
       "    {'path': [2, 4, 6, 1]},\n",
       "    {'path': [2, 4, 6, 5, 1]},\n",
       "    {'path': [2, 4, 6, 5, 7, 1]},\n",
       "    {'path': [2, 6, 1]},\n",
       "    {'path': [2, 6, 4, 1]},\n",
       "    {'path': [2, 6, 4, 3, 7, 1]},\n",
       "    {'path': [2, 6, 4, 3, 7, 5, 1]},\n",
       "    {'path': [2, 6, 4, 5, 1]},\n",
       "    {'path': [2, 6, 4, 5, 7, 1]},\n",
       "    {'path': [2, 6, 5, 1]},\n",
       "    {'path': [2, 6, 5, 4, 1]},\n",
       "    {'path': [2, 6, 5, 4, 3, 7, 1]},\n",
       "    {'path': [2, 6, 5, 7, 1]},\n",
       "    {'path': [2, 6, 5, 7, 3, 4, 1]}]}},\n",
       " {'name': 'adv1',\n",
       "  'infos': {'start': 2,\n",
       "   'destination': 1,\n",
       "   'arms': [{'path': [2, 1]},\n",
       "    {'path': [2, 3, 4, 1]},\n",
       "    {'path': [2, 3, 4, 5, 1]},\n",
       "    {'path': [2, 3, 4, 5, 6, 1]},\n",
       "    {'path': [2, 3, 4, 5, 7, 1]},\n",
       "    {'path': [2, 3, 4, 6, 1]},\n",
       "    {'path': [2, 3, 4, 6, 5, 1]},\n",
       "    {'path': [2, 3, 4, 6, 5, 7, 1]},\n",
       "    {'path': [2, 3, 7, 1]},\n",
       "    {'path': [2, 3, 7, 5, 1]},\n",
       "    {'path': [2, 3, 7, 5, 4, 1]},\n",
       "    {'path': [2, 3, 7, 5, 4, 6, 1]},\n",
       "    {'path': [2, 3, 7, 5, 6, 1]},\n",
       "    {'path': [2, 3, 7, 5, 6, 4, 1]},\n",
       "    {'path': [2, 4, 1]},\n",
       "    {'path': [2, 4, 3, 7, 1]},\n",
       "    {'path': [2, 4, 3, 7, 5, 1]},\n",
       "    {'path': [2, 4, 3, 7, 5, 6, 1]},\n",
       "    {'path': [2, 4, 5, 1]},\n",
       "    {'path': [2, 4, 5, 6, 1]},\n",
       "    {'path': [2, 4, 5, 7, 1]},\n",
       "    {'path': [2, 4, 6, 1]},\n",
       "    {'path': [2, 4, 6, 5, 1]},\n",
       "    {'path': [2, 4, 6, 5, 7, 1]},\n",
       "    {'path': [2, 6, 1]},\n",
       "    {'path': [2, 6, 4, 1]},\n",
       "    {'path': [2, 6, 4, 3, 7, 1]},\n",
       "    {'path': [2, 6, 4, 3, 7, 5, 1]},\n",
       "    {'path': [2, 6, 4, 5, 1]},\n",
       "    {'path': [2, 6, 4, 5, 7, 1]},\n",
       "    {'path': [2, 6, 5, 1]},\n",
       "    {'path': [2, 6, 5, 4, 1]},\n",
       "    {'path': [2, 6, 5, 4, 3, 7, 1]},\n",
       "    {'path': [2, 6, 5, 7, 1]},\n",
       "    {'path': [2, 6, 5, 7, 3, 4, 1]}]}},\n",
       " {'name': 'hyb1',\n",
       "  'infos': {'start': 6,\n",
       "   'destination': 1,\n",
       "   'arms': [{'path': [6, 1]},\n",
       "    {'path': [6, 2, 1]},\n",
       "    {'path': [6, 2, 3, 4, 1]},\n",
       "    {'path': [6, 2, 3, 4, 5, 1]},\n",
       "    {'path': [6, 2, 3, 4, 5, 7, 1]},\n",
       "    {'path': [6, 2, 3, 7, 1]},\n",
       "    {'path': [6, 2, 3, 7, 5, 1]},\n",
       "    {'path': [6, 2, 3, 7, 5, 4, 1]},\n",
       "    {'path': [6, 2, 4, 1]},\n",
       "    {'path': [6, 2, 4, 3, 7, 1]},\n",
       "    {'path': [6, 2, 4, 3, 7, 5, 1]},\n",
       "    {'path': [6, 2, 4, 5, 1]},\n",
       "    {'path': [6, 2, 4, 5, 7, 1]},\n",
       "    {'path': [6, 4, 1]},\n",
       "    {'path': [6, 4, 2, 1]},\n",
       "    {'path': [6, 4, 2, 3, 7, 1]},\n",
       "    {'path': [6, 4, 2, 3, 7, 5, 1]},\n",
       "    {'path': [6, 4, 3, 2, 1]},\n",
       "    {'path': [6, 4, 3, 7, 1]},\n",
       "    {'path': [6, 4, 3, 7, 5, 1]},\n",
       "    {'path': [6, 4, 5, 1]},\n",
       "    {'path': [6, 4, 5, 7, 1]},\n",
       "    {'path': [6, 4, 5, 7, 3, 2, 1]},\n",
       "    {'path': [6, 5, 1]},\n",
       "    {'path': [6, 5, 4, 1]},\n",
       "    {'path': [6, 5, 4, 2, 1]},\n",
       "    {'path': [6, 5, 4, 2, 3, 7, 1]},\n",
       "    {'path': [6, 5, 4, 3, 2, 1]},\n",
       "    {'path': [6, 5, 4, 3, 7, 1]},\n",
       "    {'path': [6, 5, 7, 1]},\n",
       "    {'path': [6, 5, 7, 3, 2, 1]},\n",
       "    {'path': [6, 5, 7, 3, 2, 4, 1]},\n",
       "    {'path': [6, 5, 7, 3, 4, 1]},\n",
       "    {'path': [6, 5, 7, 3, 4, 2, 1]}]}}]"
      ]
     },
     "execution_count": 16,
     "metadata": {},
     "output_type": "execute_result"
    }
   ],
   "source": [
    "agents_dicts"
   ]
  },
  {
   "cell_type": "markdown",
   "metadata": {},
   "source": [
    "# Randomly choose an arm = succession of edges towards the arrival\n",
    "\n",
    "Instead of randomly choosing, we will choose arms using the history of the costs using a Bandit algorithm. This is why we need to code the algorithms and adapt the code in `Agent_to_graph_assignment` to change to choice of arms according to the type of the agent"
   ]
  },
  {
   "cell_type": "code",
   "execution_count": 20,
   "metadata": {},
   "outputs": [
    {
     "data": {
      "text/plain": [
       "[[2, 4, 6, 5, 7, 1], [2, 3, 7, 5, 6, 4, 1], [6, 5, 4, 2, 1]]"
      ]
     },
     "execution_count": 20,
     "metadata": {},
     "output_type": "execute_result"
    }
   ],
   "source": [
    "list_arms_pulled_ = [np.random.choice(agents_dicts[i][\"infos\"]['arms'])[\"path\"] for i in range(len(agents_dicts))]\n",
    "list_arms_pulled_"
   ]
  },
  {
   "cell_type": "markdown",
   "metadata": {},
   "source": [
    "# Compute calculations of costs"
   ]
  },
  {
   "cell_type": "code",
   "execution_count": 26,
   "metadata": {},
   "outputs": [],
   "source": [
    "cc = cost_calculator(list_arms_pulled=list_arms_pulled_, \n",
    "                     adj_matrix= adj_matrix)\n",
    "summary_round, history_costs_edges = cc.return_costs()"
   ]
  },
  {
   "cell_type": "code",
   "execution_count": 27,
   "metadata": {},
   "outputs": [
    {
     "data": {
      "text/plain": [
       "{0: {'path': [2, 4, 6, 5, 7, 1], 'cost': 5.0},\n",
       " 1: {'path': [2, 3, 7, 5, 6, 4, 1], 'cost': 6.0},\n",
       " 2: {'path': [6, 5, 4, 2, 1], 'cost': 4.0}}"
      ]
     },
     "execution_count": 27,
     "metadata": {},
     "output_type": "execute_result"
    }
   ],
   "source": [
    "summary_round"
   ]
  },
  {
   "cell_type": "code",
   "execution_count": 28,
   "metadata": {},
   "outputs": [
    {
     "data": {
      "text/plain": [
       "{(1, 1): [0, 0, 0, 0, 0, 0],\n",
       " (1, 2): [0, 0, 0, 1, 0, 0],\n",
       " (1, 4): [0, 0, 0, 0, 0, 1],\n",
       " (1, 5): [0, 0, 0, 0, 0, 0],\n",
       " (1, 6): [0, 0, 0, 0, 0, 0],\n",
       " (1, 7): [0, 0, 0, 0, 1, 0],\n",
       " (2, 1): [0, 0, 0, 1, 0, 0],\n",
       " (2, 2): [0, 0, 0, 0, 0, 0],\n",
       " (2, 3): [1, 0, 0, 0, 0, 0],\n",
       " (2, 4): [1, 0, 1, 0, 0, 0],\n",
       " (2, 6): [0, 0, 0, 0, 0, 0],\n",
       " (3, 2): [1, 0, 0, 0, 0, 0],\n",
       " (3, 4): [0, 0, 0, 0, 0, 0],\n",
       " (3, 7): [0, 1, 0, 0, 0, 0],\n",
       " (4, 1): [0, 0, 0, 0, 0, 1],\n",
       " (4, 2): [1, 0, 1, 0, 0, 0],\n",
       " (4, 3): [0, 0, 0, 0, 0, 0],\n",
       " (4, 4): [0, 0, 0, 0, 0, 0],\n",
       " (4, 5): [0, 1, 0, 0, 0, 0],\n",
       " (4, 6): [0, 1, 0, 0, 1, 0],\n",
       " (5, 1): [0, 0, 0, 0, 0, 0],\n",
       " (5, 4): [0, 1, 0, 0, 0, 0],\n",
       " (5, 6): [1, 0, 1, 1, 0, 0],\n",
       " (5, 7): [0, 0, 1, 1, 0, 0],\n",
       " (6, 1): [0, 0, 0, 0, 0, 0],\n",
       " (6, 2): [0, 0, 0, 0, 0, 0],\n",
       " (6, 4): [0, 1, 0, 0, 1, 0],\n",
       " (6, 5): [1, 0, 1, 1, 0, 0],\n",
       " (7, 1): [0, 0, 0, 0, 1, 0],\n",
       " (7, 3): [0, 1, 0, 0, 0, 0],\n",
       " (7, 5): [0, 0, 1, 1, 0, 0],\n",
       " (7, 7): [0, 0, 0, 0, 0, 0]}"
      ]
     },
     "execution_count": 28,
     "metadata": {},
     "output_type": "execute_result"
    }
   ],
   "source": [
    "history_costs_edges"
   ]
  },
  {
   "cell_type": "markdown",
   "metadata": {},
   "source": [
    "# Compute Minimal cost and optimal paths"
   ]
  },
  {
   "cell_type": "markdown",
   "metadata": {},
   "source": [
    "### Combinatorial approach : "
   ]
  },
  {
   "cell_type": "code",
   "execution_count": 29,
   "metadata": {},
   "outputs": [
    {
     "name": "stdout",
     "output_type": "stream",
     "text": [
      "Time depassed 20 seconds, only 37653 combinations where tested\n",
      "Total time to compute costs:20.00 s\n",
      " => The minimal cost is :  4.0\n",
      " => The optimal paths are :  [[2, 1], [2, 4, 1], [6, 1]]\n"
     ]
    }
   ],
   "source": [
    "assignement.get_optimal_paths(combinatorial=True, time_limit=20)"
   ]
  },
  {
   "cell_type": "code",
   "execution_count": null,
   "metadata": {},
   "outputs": [],
   "source": []
  },
  {
   "cell_type": "code",
   "execution_count": null,
   "metadata": {},
   "outputs": [],
   "source": []
  }
 ],
 "metadata": {
  "kernelspec": {
   "display_name": "Python 3",
   "language": "python",
   "name": "python3"
  },
  "language_info": {
   "codemirror_mode": {
    "name": "ipython",
    "version": 3
   },
   "file_extension": ".py",
   "mimetype": "text/x-python",
   "name": "python",
   "nbconvert_exporter": "python",
   "pygments_lexer": "ipython3",
   "version": "3.6.5"
  }
 },
 "nbformat": 4,
 "nbformat_minor": 2
}
