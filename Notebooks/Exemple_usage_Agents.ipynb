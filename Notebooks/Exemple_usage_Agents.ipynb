{
 "cells": [
  {
   "cell_type": "code",
   "execution_count": 67,
   "metadata": {},
   "outputs": [
    {
     "name": "stdout",
     "output_type": "stream",
     "text": [
      "The autoreload extension is already loaded. To reload it, use:\n",
      "  %reload_ext autoreload\n"
     ]
    }
   ],
   "source": [
    "import numpy as np\n",
    "import matplotlib.pyplot as plt\n",
    "from Environment.Env import Vertex, Graph, Agent_to_graph_assignment, cost_calculator\n",
    "from Agents.CombUCB_agent import *\n",
    "\n",
    "%load_ext autoreload\n",
    "%autoreload 2"
   ]
  },
  {
   "cell_type": "code",
   "execution_count": null,
   "metadata": {},
   "outputs": [],
   "source": [
    "nb_iterations = 100\n",
    "exploration_parameter = 1.5\n",
    "\n",
    "V = 20# number of vertices\n",
    "dropout_egde_rate = 0.7 # rate of edges to delete from the fully connected graph\n",
    "\n",
    "g = Graph()\n",
    "for i in range(V):\n",
    "    g.add(i,i)\n",
    "    \n",
    "adj_matrix = np.zeros((V,V))\n",
    "all_edges = {}\n",
    "for i in range(1,V):\n",
    "    for j in range(i,V):\n",
    "        if np.random.random() > dropout_egde_rate :\n",
    "            adj_matrix[i,j], adj_matrix[j,i] = 1, 1\n",
    "            g.addEdge(i,j,1)\n",
    "            g.addEdge(j,i,1)\n",
    "            all_edges[(i,j)] = adj_matrix[i,j]\n",
    "            all_edges[(j,i)] = adj_matrix[j,i]\n",
    "            \n",
    "            \n",
    "            \n",
    "# agents =[\"sto1\",'sto2',\"sto3\",\"sto4\",\"sto5\",\n",
    "#          \"sto6\",'sto7',\"sto8\",\"sto9\",\"sto10\", \n",
    "#         \"sto11\",'sto12',\"sto13\"]\n",
    "\n",
    "# agents =[\"sto1\",'sto2',\"sto3\",\"sto4\",\"sto5\"]\n",
    "\n",
    "agents = ['sto{}'.format(i) for i in range(1,7)]\n",
    "\n",
    "assignement = Agent_to_graph_assignment(graph=g,\n",
    "                                        list_agents_names = agents, adj_matrix=adj_matrix)\n",
    "agents_dicts = assignement.random_assignement()\n",
    "agents_dicts"
   ]
  },
  {
   "cell_type": "code",
   "execution_count": 80,
   "metadata": {},
   "outputs": [
    {
     "name": "stderr",
     "output_type": "stream",
     "text": [
      "ERROR:root:Internal Python error in the inspect module.\n",
      "Below is the traceback from this internal error.\n",
      "\n",
      "\n",
      "KeyboardInterrupt\n",
      "\n"
     ]
    }
   ],
   "source": [
    "# initialisation\n",
    "visits_ini = {}\n",
    "for key in all_edges.keys():\n",
    "    visits_ini[key] = 1\n",
    "\n",
    "beliefs_hat_cost_edges = {} # beliefs of each agent\n",
    "own_history_of_visits = {} # history of visits of edges proper to each agent\n",
    "for agent_name in agents :\n",
    "    beliefs_hat_cost_edges[agent_name] = all_edges\n",
    "    own_history_of_visits[agent_name] = visits_ini # initializing the number of visits by 1\n",
    "\n",
    "summary_experiences= []\n",
    "\n",
    "for t in range(1, nb_iterations):\n",
    "    list_arms_pulled = []\n",
    "    for ind_agent, agent_name in enumerate(agents) :\n",
    "        arms_possible = []\n",
    "        for arm in agents_dicts[ind_agent][\"infos\"]['arms']:\n",
    "            arms_possible.append(arm[\"path\"])\n",
    "        if \"sto\" in agent_name :\n",
    "            agent_class = CombUCB_agent_part1(t=t, \n",
    "                                              arms_sto=arms_possible, \n",
    "                                              dict_hat_costs_edges=beliefs_hat_cost_edges[agent_name],\n",
    "                                              history_visited_edges=own_history_of_visits[agent_name],\n",
    "                                              exploration_parameter=exploration_parameter)\n",
    "            \n",
    "        arm_to_play = agent_class.step()\n",
    "        list_arms_pulled.append(arm_to_play)\n",
    "    \n",
    "    # Calculating the real costs after by running the agents on the graph each one following his own path \n",
    "    # given by his update strategy\n",
    "    \n",
    "    cc = cost_calculator(list_arms_pulled=list_arms_pulled, \n",
    "                         adj_matrix= adj_matrix)\n",
    "    summary_round, history_costs_edges = cc.return_costs()\n",
    "    \n",
    "    summary_experiences.append(summary_round)\n",
    "    \n",
    "    for ind_agent, agent_name in enumerate(agents) :\n",
    "        if \"sto\" in agent_name:\n",
    "            agent_class = CombUCB_agent_part2(arm_played=list_arms_pulled[ind_agent],\n",
    "                                              cost_edges_observed=history_costs_edges,\n",
    "                                              old_dict_hat_costs_edges=beliefs_hat_cost_edges[agent_name],\n",
    "                                              old_history_visited_edges=own_history_of_visits[agent_name])\n",
    "        beliefs_hat_cost_edges[agent_name], own_history_of_visits[agent_name] = agent_class.update_own_statistics()"
   ]
  },
  {
   "cell_type": "code",
   "execution_count": 84,
   "metadata": {},
   "outputs": [],
   "source": [
    "# plt.figure(figsize=(15,10))\n",
    "\n",
    "# for ind_agent, agent_name in enumerate(agents):\n",
    "\n",
    "#     plt.plot(range(nb_iterations-1),\n",
    "#              [summary_experiences[t][ind_agent][\"cost\"] for t in range(nb_iterations-1)],\n",
    "#              label = agent_name)\n",
    "# plt.legend();"
   ]
  },
  {
   "cell_type": "markdown",
   "metadata": {},
   "source": [
    "**Plotting Evolution of total cost:**"
   ]
  },
  {
   "cell_type": "code",
   "execution_count": 74,
   "metadata": {},
   "outputs": [
    {
     "data": {
      "image/png": "[encoded data removed]",
      "text/plain": [
       "<Figure size 864x648 with 1 Axes>"
      ]
     },
     "metadata": {},
     "output_type": "display_data"
    }
   ],
   "source": [
    "plt.figure(figsize=(12,9))\n",
    "total_costs = list()\n",
    "for t in range(nb_iterations-1):\n",
    "    cost = sum([summary_experiences[t][ind_agent][\"cost\"] for ind_agent in range(len(agents))])\n",
    "    total_costs.append(cost)\n",
    "    \n",
    "plt.plot(total_costs)\n",
    "plt.title('Evolution of total cost')\n",
    "plt.show()"
   ]
  },
  {
   "cell_type": "markdown",
   "metadata": {},
   "source": [
    "**Computing Optimal Cost :**"
   ]
  },
  {
   "cell_type": "code",
   "execution_count": 76,
   "metadata": {},
   "outputs": [
    {
     "name": "stdout",
     "output_type": "stream",
     "text": [
      "Time depassed 60 seconds, only 62318 combinations where tested\n",
      "Total time to compute costs:60.01 s\n",
      " => The minimal cost is :  27.0\n",
      " => The optimal paths are :  [[2, 6], [3, 4], [6, 3], [6, 3, 4], [7, 3, 2], [7, 3], [3, 7], [1, 5], [7, 6], [4, 5], [6, 5, 1], [6, 5, 3], [1, 7]]\n"
     ]
    }
   ],
   "source": [
    "assignement.get_optimal_paths(combinatorial=True, time_limit=60)"
   ]
  },
  {
   "cell_type": "code",
   "execution_count": null,
   "metadata": {},
   "outputs": [],
   "source": []
  }
 ],
 "metadata": {
  "kernelspec": {
   "display_name": "Python 3",
   "language": "python",
   "name": "python3"
  },
  "language_info": {
   "codemirror_mode": {
    "name": "ipython",
    "version": 3
   },
   "file_extension": ".py",
   "mimetype": "text/x-python",
   "name": "python",
   "nbconvert_exporter": "python",
   "pygments_lexer": "ipython3",
   "version": "3.6.5"
  }
 },
 "nbformat": 4,
 "nbformat_minor": 2
}
