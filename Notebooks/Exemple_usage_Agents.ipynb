{
 "cells": [
  {
   "cell_type": "code",
   "execution_count": 15,
   "metadata": {},
   "outputs": [],
   "source": [
    "import sys\n",
    "sys.path.insert(0, '../')\n",
    "import numpy as np\n",
    "import matplotlib.pyplot as plt\n",
    "from Environment.Env import Agent_to_graph_assignment, cost_calculator\n",
    "from Environment.Build import Generate_Graph\n",
    "from Agents.CombUCB_agent import *\n",
    "from Agents.Exp2_agent import *\n",
    "\n",
    "%load_ext autoreload\n",
    "%autoreload 2"
   ]
  },
  {
   "cell_type": "markdown",
   "metadata": {},
   "source": [
    "# Graph creation"
   ]
  },
  {
   "cell_type": "code",
   "execution_count": 25,
   "metadata": {},
   "outputs": [],
   "source": [
    "nb_iterations = 100\n",
    "exploration_parameter = 1.5\n",
    "\n",
    "V = 20# number of vertices\n",
    "dropout_edge_rate = 0.9 # rate of edges to delete from the fully connected graph\n",
    "\n",
    "generator = Generate_Graph(graph_type=\"Random_Sparse_graph\", \n",
    "                           nb_vertices= V,\n",
    "                           dropout_edge_rate=dropout_edge_rate)\n",
    "\n",
    "# generator = Generate_Graph(graph_type=\"Sioux_Falls\", \n",
    "#                            nb_vertices= V,\n",
    "#                            dropout_edge_rate=dropout_edge_rate)\n",
    "\n",
    "# generator = Generate_Graph(graph_type=\"OW\", \n",
    "#                            nb_vertices= V,\n",
    "#                            dropout_edge_rate=dropout_edge_rate)\n",
    "\n",
    "g, adj_matrix, all_edges = generator.build()"
   ]
  },
  {
   "cell_type": "markdown",
   "metadata": {},
   "source": [
    "# Agents creation"
   ]
  },
  {
   "cell_type": "code",
   "execution_count": 27,
   "metadata": {},
   "outputs": [],
   "source": [
    "agents_sto = ['sto{}'.format(i) for i in range(1,5)]\n",
    "agents_adv = [\"adv{}\".format(i) for i in range(1,5)]\n",
    "\n",
    "agents = agents_sto + agents_adv"
   ]
  },
  {
   "cell_type": "markdown",
   "metadata": {},
   "source": [
    "# Agents assignement on the created graph"
   ]
  },
  {
   "cell_type": "code",
   "execution_count": 28,
   "metadata": {
    "scrolled": true
   },
   "outputs": [
    {
     "data": {
      "text/plain": [
       "[{'name': 'sto1',\n",
       "  'infos': {'start': 14,\n",
       "   'destination': 6,\n",
       "   'arms': [{'path': [14, 9, 10, 5, 18, 16, 1, 6]},\n",
       "    {'path': [14, 9, 10, 6]},\n",
       "    {'path': [14, 9, 10, 7, 18, 16, 1, 6]},\n",
       "    {'path': [14, 11, 18, 5, 10, 6]},\n",
       "    {'path': [14, 11, 18, 7, 10, 6]},\n",
       "    {'path': [14, 11, 18, 16, 1, 6]},\n",
       "    {'path': [14, 16, 1, 6]},\n",
       "    {'path': [14, 16, 18, 5, 10, 6]},\n",
       "    {'path': [14, 16, 18, 7, 10, 6]},\n",
       "    {'path': [14, 17, 3, 10, 5, 18, 16, 1, 6]},\n",
       "    {'path': [14, 17, 3, 10, 6]},\n",
       "    {'path': [14, 17, 3, 10, 7, 18, 16, 1, 6]}]}},\n",
       " {'name': 'sto2',\n",
       "  'infos': {'start': 19,\n",
       "   'destination': 5,\n",
       "   'arms': [{'path': [19, 15, 14, 9, 10, 5]},\n",
       "    {'path': [19, 15, 14, 9, 10, 6, 1, 16, 18, 5]},\n",
       "    {'path': [19, 15, 14, 9, 10, 7, 18, 5]},\n",
       "    {'path': [19, 15, 14, 11, 18, 5]},\n",
       "    {'path': [19, 15, 14, 11, 18, 7, 10, 5]},\n",
       "    {'path': [19, 15, 14, 11, 18, 16, 1, 6, 10, 5]},\n",
       "    {'path': [19, 15, 14, 16, 1, 6, 10, 5]},\n",
       "    {'path': [19, 15, 14, 16, 1, 6, 10, 7, 18, 5]},\n",
       "    {'path': [19, 15, 14, 16, 18, 5]},\n",
       "    {'path': [19, 15, 14, 16, 18, 7, 10, 5]},\n",
       "    {'path': [19, 15, 14, 17, 3, 10, 5]},\n",
       "    {'path': [19, 15, 14, 17, 3, 10, 6, 1, 16, 18, 5]},\n",
       "    {'path': [19, 15, 14, 17, 3, 10, 7, 18, 5]}]}},\n",
       " {'name': 'sto3',\n",
       "  'infos': {'start': 1,\n",
       "   'destination': 18,\n",
       "   'arms': [{'path': [1, 6, 10, 3, 17, 14, 11, 18]},\n",
       "    {'path': [1, 6, 10, 3, 17, 14, 16, 18]},\n",
       "    {'path': [1, 6, 10, 5, 18]},\n",
       "    {'path': [1, 6, 10, 7, 18]},\n",
       "    {'path': [1, 6, 10, 9, 14, 11, 18]},\n",
       "    {'path': [1, 6, 10, 9, 14, 16, 18]},\n",
       "    {'path': [1, 16, 14, 9, 10, 5, 18]},\n",
       "    {'path': [1, 16, 14, 9, 10, 7, 18]},\n",
       "    {'path': [1, 16, 14, 11, 18]},\n",
       "    {'path': [1, 16, 14, 17, 3, 10, 5, 18]},\n",
       "    {'path': [1, 16, 14, 17, 3, 10, 7, 18]},\n",
       "    {'path': [1, 16, 18]}]}},\n",
       " {'name': 'sto4',\n",
       "  'infos': {'start': 6,\n",
       "   'destination': 5,\n",
       "   'arms': [{'path': [6, 1, 16, 14, 9, 10, 5]},\n",
       "    {'path': [6, 1, 16, 14, 9, 10, 7, 18, 5]},\n",
       "    {'path': [6, 1, 16, 14, 11, 18, 5]},\n",
       "    {'path': [6, 1, 16, 14, 11, 18, 7, 10, 5]},\n",
       "    {'path': [6, 1, 16, 14, 17, 3, 10, 5]},\n",
       "    {'path': [6, 1, 16, 14, 17, 3, 10, 7, 18, 5]},\n",
       "    {'path': [6, 1, 16, 18, 5]},\n",
       "    {'path': [6, 1, 16, 18, 7, 10, 5]},\n",
       "    {'path': [6, 1, 16, 18, 11, 14, 9, 10, 5]},\n",
       "    {'path': [6, 1, 16, 18, 11, 14, 17, 3, 10, 5]},\n",
       "    {'path': [6, 10, 3, 17, 14, 11, 18, 5]},\n",
       "    {'path': [6, 10, 3, 17, 14, 16, 18, 5]},\n",
       "    {'path': [6, 10, 5]},\n",
       "    {'path': [6, 10, 7, 18, 5]},\n",
       "    {'path': [6, 10, 9, 14, 11, 18, 5]},\n",
       "    {'path': [6, 10, 9, 14, 16, 18, 5]}]}},\n",
       " {'name': 'adv1',\n",
       "  'infos': {'start': 2,\n",
       "   'destination': 9,\n",
       "   'arms': [{'path': [2, 6, 1, 16, 14, 9]},\n",
       "    {'path': [2, 6, 1, 16, 14, 11, 18, 5, 10, 9]},\n",
       "    {'path': [2, 6, 1, 16, 14, 11, 18, 7, 10, 9]},\n",
       "    {'path': [2, 6, 1, 16, 14, 17, 3, 10, 9]},\n",
       "    {'path': [2, 6, 1, 16, 18, 5, 10, 3, 17, 14, 9]},\n",
       "    {'path': [2, 6, 1, 16, 18, 5, 10, 9]},\n",
       "    {'path': [2, 6, 1, 16, 18, 7, 10, 3, 17, 14, 9]},\n",
       "    {'path': [2, 6, 1, 16, 18, 7, 10, 9]},\n",
       "    {'path': [2, 6, 1, 16, 18, 11, 14, 9]},\n",
       "    {'path': [2, 6, 1, 16, 18, 11, 14, 17, 3, 10, 9]},\n",
       "    {'path': [2, 6, 10, 3, 17, 14, 9]},\n",
       "    {'path': [2, 6, 10, 5, 18, 11, 14, 9]},\n",
       "    {'path': [2, 6, 10, 5, 18, 16, 14, 9]},\n",
       "    {'path': [2, 6, 10, 7, 18, 11, 14, 9]},\n",
       "    {'path': [2, 6, 10, 7, 18, 16, 14, 9]},\n",
       "    {'path': [2, 6, 10, 9]}]}},\n",
       " {'name': 'adv2',\n",
       "  'infos': {'start': 4,\n",
       "   'destination': 18,\n",
       "   'arms': [{'path': [4, 1, 6, 10, 3, 17, 14, 11, 18]},\n",
       "    {'path': [4, 1, 6, 10, 3, 17, 14, 16, 18]},\n",
       "    {'path': [4, 1, 6, 10, 5, 18]},\n",
       "    {'path': [4, 1, 6, 10, 7, 18]},\n",
       "    {'path': [4, 1, 6, 10, 9, 14, 11, 18]},\n",
       "    {'path': [4, 1, 6, 10, 9, 14, 16, 18]},\n",
       "    {'path': [4, 1, 16, 14, 9, 10, 5, 18]},\n",
       "    {'path': [4, 1, 16, 14, 9, 10, 7, 18]},\n",
       "    {'path': [4, 1, 16, 14, 11, 18]},\n",
       "    {'path': [4, 1, 16, 14, 17, 3, 10, 5, 18]},\n",
       "    {'path': [4, 1, 16, 14, 17, 3, 10, 7, 18]},\n",
       "    {'path': [4, 1, 16, 18]}]}},\n",
       " {'name': 'adv3',\n",
       "  'infos': {'start': 4,\n",
       "   'destination': 8,\n",
       "   'arms': [{'path': [4, 1, 6, 10, 3, 17, 14, 11, 18, 5, 8]},\n",
       "    {'path': [4, 1, 6, 10, 3, 17, 14, 16, 18, 5, 8]},\n",
       "    {'path': [4, 1, 6, 10, 5, 8]},\n",
       "    {'path': [4, 1, 6, 10, 7, 18, 5, 8]},\n",
       "    {'path': [4, 1, 6, 10, 9, 14, 11, 18, 5, 8]},\n",
       "    {'path': [4, 1, 6, 10, 9, 14, 16, 18, 5, 8]},\n",
       "    {'path': [4, 1, 16, 14, 9, 10, 5, 8]},\n",
       "    {'path': [4, 1, 16, 14, 9, 10, 7, 18, 5, 8]},\n",
       "    {'path': [4, 1, 16, 14, 11, 18, 5, 8]},\n",
       "    {'path': [4, 1, 16, 14, 11, 18, 7, 10, 5, 8]},\n",
       "    {'path': [4, 1, 16, 14, 17, 3, 10, 5, 8]},\n",
       "    {'path': [4, 1, 16, 14, 17, 3, 10, 7, 18, 5, 8]},\n",
       "    {'path': [4, 1, 16, 18, 5, 8]},\n",
       "    {'path': [4, 1, 16, 18, 7, 10, 5, 8]},\n",
       "    {'path': [4, 1, 16, 18, 11, 14, 9, 10, 5, 8]},\n",
       "    {'path': [4, 1, 16, 18, 11, 14, 17, 3, 10, 5, 8]}]}},\n",
       " {'name': 'adv4',\n",
       "  'infos': {'start': 19,\n",
       "   'destination': 2,\n",
       "   'arms': [{'path': [19, 15, 14, 9, 10, 5, 18, 16, 1, 6, 2]},\n",
       "    {'path': [19, 15, 14, 9, 10, 6, 2]},\n",
       "    {'path': [19, 15, 14, 9, 10, 7, 18, 16, 1, 6, 2]},\n",
       "    {'path': [19, 15, 14, 11, 18, 5, 10, 6, 2]},\n",
       "    {'path': [19, 15, 14, 11, 18, 7, 10, 6, 2]},\n",
       "    {'path': [19, 15, 14, 11, 18, 16, 1, 6, 2]},\n",
       "    {'path': [19, 15, 14, 16, 1, 6, 2]},\n",
       "    {'path': [19, 15, 14, 16, 18, 5, 10, 6, 2]},\n",
       "    {'path': [19, 15, 14, 16, 18, 7, 10, 6, 2]},\n",
       "    {'path': [19, 15, 14, 17, 3, 10, 5, 18, 16, 1, 6, 2]},\n",
       "    {'path': [19, 15, 14, 17, 3, 10, 6, 2]},\n",
       "    {'path': [19, 15, 14, 17, 3, 10, 7, 18, 16, 1, 6, 2]}]}}]"
      ]
     },
     "execution_count": 28,
     "metadata": {},
     "output_type": "execute_result"
    }
   ],
   "source": [
    "assignement = Agent_to_graph_assignment(graph=g,\n",
    "                                        list_agents_names = agents, \n",
    "                                        adj_matrix=adj_matrix)\n",
    "agents_dicts = assignement.random_assignement()\n",
    "agents_dicts"
   ]
  },
  {
   "cell_type": "markdown",
   "metadata": {},
   "source": [
    "# Play interactions"
   ]
  },
  {
   "cell_type": "code",
   "execution_count": 31,
   "metadata": {},
   "outputs": [],
   "source": [
    "summary_experiences= []\n",
    "\n",
    "tracker_probas_over_arms_adv = {}\n",
    "arms_possible = {}\n",
    "edge_presence_in_arm_indexes = {}\n",
    "\n",
    "for ind_agent, agent_name in enumerate(agents) :\n",
    "    arms_possible[agent_name] = []\n",
    "    for arm in agents_dicts[ind_agent][\"infos\"]['arms']:\n",
    "        arms_possible[agent_name].append(arm[\"path\"]) \n",
    "\n",
    "\n",
    "for t in range(nb_iterations):\n",
    "    \n",
    "    list_arms_pulled = []\n",
    "    for ind_agent, agent_name in enumerate(agents) :\n",
    "        if \"sto\" in agent_name :\n",
    "            if t==0 :\n",
    "                # initialisation\n",
    "                visits_ini = {}\n",
    "                for key in all_edges.keys():\n",
    "                    visits_ini[key] = 1\n",
    "\n",
    "                beliefs_hat_cost_edges = {} # beliefs of each agent\n",
    "                own_history_of_visits = {} # history of visits of edges proper to each agent\n",
    "                for agent_name in agents :\n",
    "                    beliefs_hat_cost_edges[agent_name] = all_edges.copy()\n",
    "                    own_history_of_visits[agent_name] = visits_ini.copy() # initializing the number of visits by 1\n",
    "                \n",
    "            agent_class = CombUCB_agent_part1(t=t, \n",
    "                                              arms_sto=arms_possible[agent_name], \n",
    "                                              dict_hat_costs_edges=beliefs_hat_cost_edges[agent_name],\n",
    "                                              history_visited_edges=own_history_of_visits[agent_name],\n",
    "                                              exploration_parameter=exploration_parameter)\n",
    "        if 'adv' in agent_name :\n",
    "            if t == 0:\n",
    "                # initialisation\n",
    "                proba_over_arms = np.ones(len(arms_possible[agent_name]))/len(arms_possible[agent_name])\n",
    "                tracker_probas_over_arms_adv[agent_name] = proba_over_arms\n",
    "            agent_class = Exp2_agent_part1(t=t,\n",
    "                                           arms_adv=arms_possible[agent_name],\n",
    "                                           proba_over_arms=tracker_probas_over_arms_adv[agent_name])\n",
    "            \n",
    "        arm_to_play = agent_class.step()\n",
    "        list_arms_pulled.append(arm_to_play)\n",
    "        \n",
    "        \n",
    "    #######################################################################################################\n",
    "    # Calculating the real costs after by running the agents on the graph each one following his own path \n",
    "    # given by his update strategy\n",
    "    \n",
    "    cc = cost_calculator(list_arms_pulled=list_arms_pulled, \n",
    "                         adj_matrix= adj_matrix)\n",
    "    summary_round, history_costs_edges = cc.return_costs()\n",
    "    summary_experiences.append(summary_round)\n",
    "    \n",
    "    #######################################################################################################    \n",
    "    # Updates\n",
    "    \n",
    "    for ind_agent, agent_name in enumerate(agents) :\n",
    "        if \"sto\" in agent_name:\n",
    "            agent_class = CombUCB_agent_part2(arm_played=list_arms_pulled[ind_agent],\n",
    "                                              cost_edges_observed=history_costs_edges,\n",
    "                                              old_dict_hat_costs_edges=beliefs_hat_cost_edges[agent_name],\n",
    "                                              old_history_visited_edges=own_history_of_visits[agent_name])\n",
    "            \n",
    "            beliefs_hat_cost_edges[agent_name], own_history_of_visits[agent_name] = agent_class.update_own_statistics()\n",
    "            \n",
    "        if 'adv' in agent_name :\n",
    "            \n",
    "            if t == 0:\n",
    "                # initialisation\n",
    "                nrows = len(history_costs_edges.keys())\n",
    "                ncols = len(arms_possible[agent_name])\n",
    "                edge_presence_in_arm_indexes[agent_name] = np.zeros((nrows, ncols))\n",
    "                for i, edge in enumerate(history_costs_edges.keys()):\n",
    "                    s,d = edge[0], edge[1]\n",
    "                    for j, arm in enumerate(arms_possible[agent_name]):\n",
    "                        if any(arm[k]==s and arm[k+1]==d for k in range(len(arm)-1)):\n",
    "                            edge_presence_in_arm_indexes[agent_name][i,j] = 1\n",
    "                            \n",
    "            agent_class = Exp2_agent_part2(t=t,\n",
    "                                           arm_played=list_arms_pulled[ind_agent],\n",
    "                                           arms_adv=arms_possible[agent_name],\n",
    "                                           cost_edges_observed= history_costs_edges,\n",
    "                                           old_proba_over_arms=tracker_probas_over_arms_adv[agent_name],\n",
    "                                           edge_presence_in_arm_indexes=edge_presence_in_arm_indexes[agent_name]\n",
    "                                          )\n",
    "            tracker_probas_over_arms_adv[agent_name] = agent_class.update_own_statistics()\n",
    "\n",
    "        \n",
    "        "
   ]
  },
  {
   "cell_type": "code",
   "execution_count": 32,
   "metadata": {},
   "outputs": [
    {
     "data": {
      "image/png": "[encoded data removed]",
      "text/plain": [
       "<Figure size 1080x720 with 1 Axes>"
      ]
     },
     "metadata": {},
     "output_type": "display_data"
    }
   ],
   "source": [
    "plt.figure(figsize=(15,10))\n",
    "\n",
    "for ind_agent, agent_name in enumerate(agents):\n",
    "\n",
    "    plt.plot(range(nb_iterations-1),\n",
    "             [summary_experiences[t][ind_agent][\"cost\"] for t in range(nb_iterations-1)],\n",
    "             label = agent_name)\n",
    "plt.legend();"
   ]
  },
  {
   "cell_type": "markdown",
   "metadata": {},
   "source": [
    "**Plotting Evolution of total cost:**"
   ]
  },
  {
   "cell_type": "code",
   "execution_count": 33,
   "metadata": {},
   "outputs": [
    {
     "data": {
      "image/png": "[encoded data removed]",
      "text/plain": [
       "<Figure size 864x648 with 1 Axes>"
      ]
     },
     "metadata": {},
     "output_type": "display_data"
    }
   ],
   "source": [
    "plt.figure(figsize=(12,9))\n",
    "total_costs = list()\n",
    "for t in range(nb_iterations-1):\n",
    "    cost = sum([summary_experiences[t][ind_agent][\"cost\"] for ind_agent in range(len(agents))])\n",
    "    total_costs.append(cost)\n",
    "    \n",
    "plt.plot(total_costs)\n",
    "plt.title('Evolution of total cost')\n",
    "plt.show()"
   ]
  },
  {
   "cell_type": "markdown",
   "metadata": {},
   "source": [
    "**Computing Optimal Cost :**"
   ]
  },
  {
   "cell_type": "code",
   "execution_count": 34,
   "metadata": {},
   "outputs": [
    {
     "name": "stdout",
     "output_type": "stream",
     "text": [
      "Time depassed 60 seconds, only 20354 combinations where tested\n",
      "Total time to compute costs:60.00 s\n",
      " => The minimal cost is :  37.0\n",
      " => The optimal paths are :  [[14, 9, 10, 6], [19, 15, 14, 9, 10, 5], [1, 16, 18], [6, 10, 5], [2, 6, 10, 9], [4, 1, 16, 18], [4, 1, 6, 10, 5, 8], [19, 15, 14, 16, 1, 6, 2]]\n"
     ]
    }
   ],
   "source": [
    "assignement.get_optimal_paths(combinatorial=True, time_limit=60)"
   ]
  },
  {
   "cell_type": "markdown",
   "metadata": {},
   "source": [
    "***"
   ]
  },
  {
   "cell_type": "code",
   "execution_count": 35,
   "metadata": {},
   "outputs": [
    {
     "data": {
      "text/plain": [
       "{0: {'path': [14, 9, 10, 6], 'cost': 3.0},\n",
       " 1: {'path': [19, 15, 14, 16, 18, 5], 'cost': 9.0},\n",
       " 2: {'path': [1, 16, 18], 'cost': 2.0},\n",
       " 3: {'path': [6, 10, 5], 'cost': 2.0},\n",
       " 4: {'path': [2, 6, 1, 16, 18, 11, 14, 17, 3, 10, 9], 'cost': 11.0},\n",
       " 5: {'path': [4, 1, 16, 14, 9, 10, 7, 18], 'cost': 12.0},\n",
       " 6: {'path': [4, 1, 16, 18, 11, 14, 17, 3, 10, 5, 8], 'cost': 12.0},\n",
       " 7: {'path': [19, 15, 14, 17, 3, 10, 7, 18, 16, 1, 6, 2], 'cost': 15.0}}"
      ]
     },
     "execution_count": 35,
     "metadata": {},
     "output_type": "execute_result"
    }
   ],
   "source": [
    "summary_experiences[-1]"
   ]
  },
  {
   "cell_type": "code",
   "execution_count": null,
   "metadata": {},
   "outputs": [],
   "source": []
  }
 ],
 "metadata": {
  "kernelspec": {
   "display_name": "Python 3",
   "language": "python",
   "name": "python3"
  },
  "language_info": {
   "codemirror_mode": {
    "name": "ipython",
    "version": 3
   },
   "file_extension": ".py",
   "mimetype": "text/x-python",
   "name": "python",
   "nbconvert_exporter": "python",
   "pygments_lexer": "ipython3",
   "version": "3.6.5"
  }
 },
 "nbformat": 4,
 "nbformat_minor": 2
}
