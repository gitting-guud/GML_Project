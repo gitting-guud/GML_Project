{
 "cells": [
  {
   "cell_type": "code",
   "execution_count": 1,
   "metadata": {},
   "outputs": [],
   "source": [
    "from Environment.Env import Vertex, Graph, Agent_to_graph_assignment, cost_calculator\n",
    "import numpy as np\n",
    "%load_ext autoreload\n",
    "%autoreload 2"
   ]
  },
  {
   "cell_type": "markdown",
   "metadata": {},
   "source": [
    "# Graph parameters"
   ]
  },
  {
   "cell_type": "code",
   "execution_count": 2,
   "metadata": {},
   "outputs": [],
   "source": [
    "V = 8 # number of vertices\n",
    "dropout_egde_rate = 0.4 # rate of edges to delete from the fully connected graph"
   ]
  },
  {
   "cell_type": "markdown",
   "metadata": {},
   "source": [
    "# Create an undirected graph"
   ]
  },
  {
   "cell_type": "markdown",
   "metadata": {},
   "source": [
    "## Create vertices"
   ]
  },
  {
   "cell_type": "code",
   "execution_count": 3,
   "metadata": {},
   "outputs": [],
   "source": [
    "g = Graph()\n",
    "for i in range(V):\n",
    "    g.add(i,i)"
   ]
  },
  {
   "cell_type": "markdown",
   "metadata": {},
   "source": [
    "# Set edges and build the adj matrix at the same time"
   ]
  },
  {
   "cell_type": "code",
   "execution_count": 4,
   "metadata": {},
   "outputs": [],
   "source": [
    "adj_matrix = np.zeros((V,V))\n",
    "for i in range(1,V):\n",
    "    for j in range(i,V):\n",
    "        if np.random.random() > dropout_egde_rate :\n",
    "            adj_matrix[i,j], adj_matrix[j,i] = 1, 1\n",
    "            g.addEdge(i,j,1)\n",
    "            g.addEdge(j,i,1)"
   ]
  },
  {
   "cell_type": "code",
   "execution_count": 5,
   "metadata": {},
   "outputs": [
    {
     "data": {
      "text/plain": [
       "array([[0., 0., 0., 0., 0., 0., 0., 0.],\n",
       "       [0., 1., 1., 1., 0., 1., 1., 0.],\n",
       "       [0., 1., 1., 1., 1., 1., 1., 0.],\n",
       "       [0., 1., 1., 1., 1., 1., 0., 0.],\n",
       "       [0., 0., 1., 1., 1., 1., 0., 1.],\n",
       "       [0., 1., 1., 1., 1., 1., 1., 1.],\n",
       "       [0., 1., 1., 0., 0., 1., 1., 1.],\n",
       "       [0., 0., 0., 0., 1., 1., 1., 0.]])"
      ]
     },
     "execution_count": 5,
     "metadata": {},
     "output_type": "execute_result"
    }
   ],
   "source": [
    "adj_matrix"
   ]
  },
  {
   "cell_type": "code",
   "execution_count": 6,
   "metadata": {},
   "outputs": [],
   "source": [
    "rows, cols = np.where(adj_matrix>0)\n",
    "all_edges = {}\n",
    "for row, col in zip(rows, cols):\n",
    "    all_edges[(row, col)] = 1"
   ]
  },
  {
   "cell_type": "code",
   "execution_count": 7,
   "metadata": {},
   "outputs": [
    {
     "data": {
      "text/plain": [
       "{(1, 1): 1,\n",
       " (1, 2): 1,\n",
       " (1, 3): 1,\n",
       " (1, 5): 1,\n",
       " (1, 6): 1,\n",
       " (2, 1): 1,\n",
       " (2, 2): 1,\n",
       " (2, 3): 1,\n",
       " (2, 4): 1,\n",
       " (2, 5): 1,\n",
       " (2, 6): 1,\n",
       " (3, 1): 1,\n",
       " (3, 2): 1,\n",
       " (3, 3): 1,\n",
       " (3, 4): 1,\n",
       " (3, 5): 1,\n",
       " (4, 2): 1,\n",
       " (4, 3): 1,\n",
       " (4, 4): 1,\n",
       " (4, 5): 1,\n",
       " (4, 7): 1,\n",
       " (5, 1): 1,\n",
       " (5, 2): 1,\n",
       " (5, 3): 1,\n",
       " (5, 4): 1,\n",
       " (5, 5): 1,\n",
       " (5, 6): 1,\n",
       " (5, 7): 1,\n",
       " (6, 1): 1,\n",
       " (6, 2): 1,\n",
       " (6, 5): 1,\n",
       " (6, 6): 1,\n",
       " (6, 7): 1,\n",
       " (7, 4): 1,\n",
       " (7, 5): 1,\n",
       " (7, 6): 1}"
      ]
     },
     "execution_count": 7,
     "metadata": {},
     "output_type": "execute_result"
    }
   ],
   "source": [
    "all_edges"
   ]
  },
  {
   "cell_type": "markdown",
   "metadata": {},
   "source": [
    "# Give names to the agents and randomly assign their starts and destinations"
   ]
  },
  {
   "cell_type": "code",
   "execution_count": 8,
   "metadata": {},
   "outputs": [],
   "source": [
    "agents =[\"sto1\",'adv1',\"hyb1\"]\n",
    "assignement = Agent_to_graph_assignment(graph=g,\n",
    "                                        list_agents_names = agents, adj_matrix=adj_matrix)\n",
    "agents_dicts = assignement.random_assignement()"
   ]
  },
  {
   "cell_type": "code",
   "execution_count": 9,
   "metadata": {},
   "outputs": [
    {
     "data": {
      "text/plain": [
       "[{'name': 'sto1',\n",
       "  'infos': {'start': 2,\n",
       "   'destination': 7,\n",
       "   'arms': [{'path': [2, 1, 3, 4, 5, 6, 7]},\n",
       "    {'path': [2, 1, 3, 4, 5, 7]},\n",
       "    {'path': [2, 1, 3, 4, 7]},\n",
       "    {'path': [2, 1, 3, 5, 4, 7]},\n",
       "    {'path': [2, 1, 3, 5, 6, 7]},\n",
       "    {'path': [2, 1, 3, 5, 7]},\n",
       "    {'path': [2, 1, 5, 3, 4, 7]},\n",
       "    {'path': [2, 1, 5, 4, 7]},\n",
       "    {'path': [2, 1, 5, 6, 7]},\n",
       "    {'path': [2, 1, 5, 7]},\n",
       "    {'path': [2, 1, 6, 5, 3, 4, 7]},\n",
       "    {'path': [2, 1, 6, 5, 4, 7]},\n",
       "    {'path': [2, 1, 6, 5, 7]},\n",
       "    {'path': [2, 1, 6, 7]},\n",
       "    {'path': [2, 3, 1, 5, 4, 7]},\n",
       "    {'path': [2, 3, 1, 5, 6, 7]},\n",
       "    {'path': [2, 3, 1, 5, 7]},\n",
       "    {'path': [2, 3, 1, 6, 5, 4, 7]},\n",
       "    {'path': [2, 3, 1, 6, 5, 7]},\n",
       "    {'path': [2, 3, 1, 6, 7]},\n",
       "    {'path': [2, 3, 4, 5, 1, 6, 7]},\n",
       "    {'path': [2, 3, 4, 5, 6, 7]},\n",
       "    {'path': [2, 3, 4, 5, 7]},\n",
       "    {'path': [2, 3, 4, 7]},\n",
       "    {'path': [2, 3, 5, 1, 6, 7]},\n",
       "    {'path': [2, 3, 5, 4, 7]},\n",
       "    {'path': [2, 3, 5, 6, 7]},\n",
       "    {'path': [2, 3, 5, 7]},\n",
       "    {'path': [2, 4, 3, 1, 5, 6, 7]},\n",
       "    {'path': [2, 4, 3, 1, 5, 7]},\n",
       "    {'path': [2, 4, 3, 1, 6, 5, 7]},\n",
       "    {'path': [2, 4, 3, 1, 6, 7]},\n",
       "    {'path': [2, 4, 3, 5, 1, 6, 7]},\n",
       "    {'path': [2, 4, 3, 5, 6, 7]},\n",
       "    {'path': [2, 4, 3, 5, 7]},\n",
       "    {'path': [2, 4, 5, 1, 6, 7]},\n",
       "    {'path': [2, 4, 5, 3, 1, 6, 7]},\n",
       "    {'path': [2, 4, 5, 6, 7]},\n",
       "    {'path': [2, 4, 5, 7]},\n",
       "    {'path': [2, 4, 7]},\n",
       "    {'path': [2, 5, 1, 3, 4, 7]},\n",
       "    {'path': [2, 5, 1, 6, 7]},\n",
       "    {'path': [2, 5, 3, 1, 6, 7]},\n",
       "    {'path': [2, 5, 3, 4, 7]},\n",
       "    {'path': [2, 5, 4, 3, 1, 6, 7]},\n",
       "    {'path': [2, 5, 4, 7]},\n",
       "    {'path': [2, 5, 6, 1, 3, 4, 7]},\n",
       "    {'path': [2, 5, 6, 7]},\n",
       "    {'path': [2, 5, 7]},\n",
       "    {'path': [2, 6, 1, 3, 4, 5, 7]},\n",
       "    {'path': [2, 6, 1, 3, 4, 7]},\n",
       "    {'path': [2, 6, 1, 3, 5, 4, 7]},\n",
       "    {'path': [2, 6, 1, 3, 5, 7]},\n",
       "    {'path': [2, 6, 1, 5, 3, 4, 7]},\n",
       "    {'path': [2, 6, 1, 5, 4, 7]},\n",
       "    {'path': [2, 6, 1, 5, 7]},\n",
       "    {'path': [2, 6, 5, 1, 3, 4, 7]},\n",
       "    {'path': [2, 6, 5, 3, 4, 7]},\n",
       "    {'path': [2, 6, 5, 4, 7]},\n",
       "    {'path': [2, 6, 5, 7]},\n",
       "    {'path': [2, 6, 7]}]}},\n",
       " {'name': 'adv1',\n",
       "  'infos': {'start': 1,\n",
       "   'destination': 2,\n",
       "   'arms': [{'path': [1, 2]},\n",
       "    {'path': [1, 3, 2]},\n",
       "    {'path': [1, 3, 4, 2]},\n",
       "    {'path': [1, 3, 4, 5, 2]},\n",
       "    {'path': [1, 3, 4, 5, 6, 2]},\n",
       "    {'path': [1, 3, 4, 5, 7, 6, 2]},\n",
       "    {'path': [1, 3, 4, 7, 5, 2]},\n",
       "    {'path': [1, 3, 4, 7, 5, 6, 2]},\n",
       "    {'path': [1, 3, 4, 7, 6, 2]},\n",
       "    {'path': [1, 3, 4, 7, 6, 5, 2]},\n",
       "    {'path': [1, 3, 5, 2]},\n",
       "    {'path': [1, 3, 5, 4, 2]},\n",
       "    {'path': [1, 3, 5, 4, 7, 6, 2]},\n",
       "    {'path': [1, 3, 5, 6, 2]},\n",
       "    {'path': [1, 3, 5, 6, 7, 4, 2]},\n",
       "    {'path': [1, 3, 5, 7, 4, 2]},\n",
       "    {'path': [1, 3, 5, 7, 6, 2]},\n",
       "    {'path': [1, 5, 2]},\n",
       "    {'path': [1, 5, 3, 2]},\n",
       "    {'path': [1, 5, 3, 4, 2]},\n",
       "    {'path': [1, 5, 3, 4, 7, 6, 2]},\n",
       "    {'path': [1, 5, 4, 2]},\n",
       "    {'path': [1, 5, 4, 3, 2]},\n",
       "    {'path': [1, 5, 4, 7, 6, 2]},\n",
       "    {'path': [1, 5, 6, 2]},\n",
       "    {'path': [1, 5, 6, 7, 4, 2]},\n",
       "    {'path': [1, 5, 6, 7, 4, 3, 2]},\n",
       "    {'path': [1, 5, 7, 4, 2]},\n",
       "    {'path': [1, 5, 7, 4, 3, 2]},\n",
       "    {'path': [1, 5, 7, 6, 2]},\n",
       "    {'path': [1, 6, 2]},\n",
       "    {'path': [1, 6, 5, 2]},\n",
       "    {'path': [1, 6, 5, 3, 2]},\n",
       "    {'path': [1, 6, 5, 3, 4, 2]},\n",
       "    {'path': [1, 6, 5, 4, 2]},\n",
       "    {'path': [1, 6, 5, 4, 3, 2]},\n",
       "    {'path': [1, 6, 5, 7, 4, 2]},\n",
       "    {'path': [1, 6, 5, 7, 4, 3, 2]},\n",
       "    {'path': [1, 6, 7, 4, 2]},\n",
       "    {'path': [1, 6, 7, 4, 3, 2]},\n",
       "    {'path': [1, 6, 7, 4, 3, 5, 2]},\n",
       "    {'path': [1, 6, 7, 4, 5, 2]},\n",
       "    {'path': [1, 6, 7, 4, 5, 3, 2]},\n",
       "    {'path': [1, 6, 7, 5, 2]},\n",
       "    {'path': [1, 6, 7, 5, 3, 2]},\n",
       "    {'path': [1, 6, 7, 5, 3, 4, 2]},\n",
       "    {'path': [1, 6, 7, 5, 4, 2]},\n",
       "    {'path': [1, 6, 7, 5, 4, 3, 2]}]}},\n",
       " {'name': 'hyb1',\n",
       "  'infos': {'start': 4,\n",
       "   'destination': 1,\n",
       "   'arms': [{'path': [4, 2, 1]},\n",
       "    {'path': [4, 2, 3, 1]},\n",
       "    {'path': [4, 2, 3, 5, 1]},\n",
       "    {'path': [4, 2, 3, 5, 6, 1]},\n",
       "    {'path': [4, 2, 3, 5, 7, 6, 1]},\n",
       "    {'path': [4, 2, 5, 1]},\n",
       "    {'path': [4, 2, 5, 3, 1]},\n",
       "    {'path': [4, 2, 5, 6, 1]},\n",
       "    {'path': [4, 2, 5, 7, 6, 1]},\n",
       "    {'path': [4, 2, 6, 1]},\n",
       "    {'path': [4, 2, 6, 5, 1]},\n",
       "    {'path': [4, 2, 6, 5, 3, 1]},\n",
       "    {'path': [4, 2, 6, 7, 5, 1]},\n",
       "    {'path': [4, 2, 6, 7, 5, 3, 1]},\n",
       "    {'path': [4, 3, 1]},\n",
       "    {'path': [4, 3, 2, 1]},\n",
       "    {'path': [4, 3, 2, 5, 1]},\n",
       "    {'path': [4, 3, 2, 5, 6, 1]},\n",
       "    {'path': [4, 3, 2, 5, 7, 6, 1]},\n",
       "    {'path': [4, 3, 2, 6, 1]},\n",
       "    {'path': [4, 3, 2, 6, 5, 1]},\n",
       "    {'path': [4, 3, 2, 6, 7, 5, 1]},\n",
       "    {'path': [4, 3, 5, 1]},\n",
       "    {'path': [4, 3, 5, 2, 1]},\n",
       "    {'path': [4, 3, 5, 2, 6, 1]},\n",
       "    {'path': [4, 3, 5, 6, 1]},\n",
       "    {'path': [4, 3, 5, 6, 2, 1]},\n",
       "    {'path': [4, 3, 5, 7, 6, 1]},\n",
       "    {'path': [4, 3, 5, 7, 6, 2, 1]},\n",
       "    {'path': [4, 5, 1]},\n",
       "    {'path': [4, 5, 2, 1]},\n",
       "    {'path': [4, 5, 2, 3, 1]},\n",
       "    {'path': [4, 5, 2, 6, 1]},\n",
       "    {'path': [4, 5, 3, 1]},\n",
       "    {'path': [4, 5, 3, 2, 1]},\n",
       "    {'path': [4, 5, 3, 2, 6, 1]},\n",
       "    {'path': [4, 5, 6, 1]},\n",
       "    {'path': [4, 5, 6, 2, 1]},\n",
       "    {'path': [4, 5, 6, 2, 3, 1]},\n",
       "    {'path': [4, 5, 7, 6, 1]},\n",
       "    {'path': [4, 5, 7, 6, 2, 1]},\n",
       "    {'path': [4, 5, 7, 6, 2, 3, 1]},\n",
       "    {'path': [4, 7, 5, 1]},\n",
       "    {'path': [4, 7, 5, 2, 1]},\n",
       "    {'path': [4, 7, 5, 2, 3, 1]},\n",
       "    {'path': [4, 7, 5, 2, 6, 1]},\n",
       "    {'path': [4, 7, 5, 3, 1]},\n",
       "    {'path': [4, 7, 5, 3, 2, 1]},\n",
       "    {'path': [4, 7, 5, 3, 2, 6, 1]},\n",
       "    {'path': [4, 7, 5, 6, 1]},\n",
       "    {'path': [4, 7, 5, 6, 2, 1]},\n",
       "    {'path': [4, 7, 5, 6, 2, 3, 1]},\n",
       "    {'path': [4, 7, 6, 1]},\n",
       "    {'path': [4, 7, 6, 2, 1]},\n",
       "    {'path': [4, 7, 6, 2, 3, 1]},\n",
       "    {'path': [4, 7, 6, 2, 3, 5, 1]},\n",
       "    {'path': [4, 7, 6, 2, 5, 1]},\n",
       "    {'path': [4, 7, 6, 2, 5, 3, 1]},\n",
       "    {'path': [4, 7, 6, 5, 1]},\n",
       "    {'path': [4, 7, 6, 5, 2, 1]},\n",
       "    {'path': [4, 7, 6, 5, 2, 3, 1]},\n",
       "    {'path': [4, 7, 6, 5, 3, 1]},\n",
       "    {'path': [4, 7, 6, 5, 3, 2, 1]}]}}]"
      ]
     },
     "execution_count": 9,
     "metadata": {},
     "output_type": "execute_result"
    }
   ],
   "source": [
    "agents_dicts"
   ]
  },
  {
   "cell_type": "markdown",
   "metadata": {},
   "source": [
    "# Randomly choose an arm = succession of edges towards the arrival\n",
    "\n",
    "Instead of randomly choosing, we will choose arms using the history of the costs using a Bandit algorithm. This is why we need to code the algorithms and adapt the code in `Agent_to_graph_assignment` to change to choice of arms according to the type of the agent"
   ]
  },
  {
   "cell_type": "code",
   "execution_count": 10,
   "metadata": {},
   "outputs": [
    {
     "data": {
      "text/plain": [
       "[[2, 1, 6, 7], [1, 6, 7, 5, 3, 2], [4, 3, 5, 7, 6, 1]]"
      ]
     },
     "execution_count": 10,
     "metadata": {},
     "output_type": "execute_result"
    }
   ],
   "source": [
    "list_arms_pulled_ = [np.random.choice(agents_dicts[i][\"infos\"]['arms'])[\"path\"] for i in range(len(agents_dicts))]\n",
    "list_arms_pulled_"
   ]
  },
  {
   "cell_type": "markdown",
   "metadata": {},
   "source": [
    "# Compute calculations of costs"
   ]
  },
  {
   "cell_type": "code",
   "execution_count": 11,
   "metadata": {},
   "outputs": [],
   "source": [
    "cc = cost_calculator(list_arms_pulled=list_arms_pulled_, \n",
    "                     adj_matrix= adj_matrix)\n",
    "summary_round, history_costs_edges = cc.return_costs()"
   ]
  },
  {
   "cell_type": "code",
   "execution_count": 12,
   "metadata": {},
   "outputs": [
    {
     "data": {
      "text/plain": [
       "{0: {'path': [2, 1, 6, 7], 'cost': 3.0},\n",
       " 1: {'path': [1, 6, 7, 5, 3, 2], 'cost': 6.0},\n",
       " 2: {'path': [4, 3, 5, 7, 6, 1], 'cost': 6.0}}"
      ]
     },
     "execution_count": 12,
     "metadata": {},
     "output_type": "execute_result"
    }
   ],
   "source": [
    "summary_round"
   ]
  },
  {
   "cell_type": "code",
   "execution_count": 13,
   "metadata": {},
   "outputs": [
    {
     "data": {
      "text/plain": [
       "{(1, 1): [0, 0, 0, 0, 0],\n",
       " (1, 2): [1, 0, 0, 0, 0],\n",
       " (1, 3): [0, 0, 0, 0, 0],\n",
       " (1, 5): [0, 0, 0, 0, 0],\n",
       " (1, 6): [1, 1, 0, 0, 1],\n",
       " (2, 1): [1, 0, 0, 0, 0],\n",
       " (2, 2): [0, 0, 0, 0, 0],\n",
       " (2, 3): [0, 0, 0, 0, 1],\n",
       " (2, 4): [0, 0, 0, 0, 0],\n",
       " (2, 5): [0, 0, 0, 0, 0],\n",
       " (2, 6): [0, 0, 0, 0, 0],\n",
       " (3, 1): [0, 0, 0, 0, 0],\n",
       " (3, 2): [0, 0, 0, 0, 1],\n",
       " (3, 3): [0, 0, 0, 0, 0],\n",
       " (3, 4): [1, 0, 0, 0, 0],\n",
       " (3, 5): [0, 1, 0, 1, 0],\n",
       " (4, 2): [0, 0, 0, 0, 0],\n",
       " (4, 3): [1, 0, 0, 0, 0],\n",
       " (4, 4): [0, 0, 0, 0, 0],\n",
       " (4, 5): [0, 0, 0, 0, 0],\n",
       " (4, 7): [0, 0, 0, 0, 0],\n",
       " (5, 1): [0, 0, 0, 0, 0],\n",
       " (5, 2): [0, 0, 0, 0, 0],\n",
       " (5, 3): [0, 1, 0, 1, 0],\n",
       " (5, 4): [0, 0, 0, 0, 0],\n",
       " (5, 5): [0, 0, 0, 0, 0],\n",
       " (5, 6): [0, 0, 0, 0, 0],\n",
       " (5, 7): [0, 0, 2, 0, 0],\n",
       " (6, 1): [1, 1, 0, 0, 1],\n",
       " (6, 2): [0, 0, 0, 0, 0],\n",
       " (6, 5): [0, 0, 0, 0, 0],\n",
       " (6, 6): [0, 0, 0, 0, 0],\n",
       " (6, 7): [0, 1, 1, 1, 0],\n",
       " (7, 4): [0, 0, 0, 0, 0],\n",
       " (7, 5): [0, 0, 2, 0, 0],\n",
       " (7, 6): [0, 1, 1, 1, 0]}"
      ]
     },
     "execution_count": 13,
     "metadata": {},
     "output_type": "execute_result"
    }
   ],
   "source": [
    "history_costs_edges"
   ]
  },
  {
   "cell_type": "markdown",
   "metadata": {},
   "source": [
    "# Compute Minimal cost and optimal paths"
   ]
  },
  {
   "cell_type": "markdown",
   "metadata": {},
   "source": [
    "### Combinatorial approach : "
   ]
  },
  {
   "cell_type": "code",
   "execution_count": 15,
   "metadata": {},
   "outputs": [
    {
     "name": "stdout",
     "output_type": "stream",
     "text": [
      "Testing 184464 combination of paths\n",
      "Time depassed 60 seconds, only 117738 combinations where tested\n",
      "Total time to compute costs of all paths :60.00 s\n",
      "[ 6.  6.  6. ... 30. 31. 31.]\n",
      " => The minimal cost is :  6.0\n",
      " => The optimal paths are :  ([2, 3, 4, 7], [1, 2], [4, 5, 1])\n"
     ]
    }
   ],
   "source": [
    "assignement.get_optimal_paths(combinatorial=True, time_limit=60)"
   ]
  },
  {
   "cell_type": "code",
   "execution_count": null,
   "metadata": {},
   "outputs": [],
   "source": []
  },
  {
   "cell_type": "code",
   "execution_count": null,
   "metadata": {},
   "outputs": [],
   "source": []
  }
 ],
 "metadata": {
  "kernelspec": {
   "display_name": "Python 3",
   "language": "python",
   "name": "python3"
  },
  "language_info": {
   "codemirror_mode": {
    "name": "ipython",
    "version": 3
   },
   "file_extension": ".py",
   "mimetype": "text/x-python",
   "name": "python",
   "nbconvert_exporter": "python",
   "pygments_lexer": "ipython3",
   "version": "3.6.5"
  }
 },
 "nbformat": 4,
 "nbformat_minor": 2
}
